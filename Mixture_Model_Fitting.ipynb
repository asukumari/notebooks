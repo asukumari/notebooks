{
 "metadata": {
  "name": ""
 },
 "nbformat": 3,
 "nbformat_minor": 0,
 "worksheets": [
  {
   "cells": [
    {
     "cell_type": "heading",
     "level": 1,
     "metadata": {},
     "source": [
      "Mixture Model Fitting\n"
     ]
    },
    {
     "cell_type": "heading",
     "level": 2,
     "metadata": {},
     "source": [
      "Introduction"
     ]
    },
    {
     "cell_type": "markdown",
     "metadata": {},
     "source": [
      "When a sample is drawn from a number $k$ of different distributions we talk of a\n",
      "**[Mixture Model](http://en.wikipedia.org/wiki/Mixture_model)**.\n",
      "\n",
      "In the common case in which the $k$ distributions are Gaussian we talk of \n",
      "[Gaussian Mixture Model (GMM)](http://en.wikipedia.org/wiki/Mixture_model#Gaussian_mixture_model).\n",
      "\n",
      "Fitting a Mixure model, if the number $k$ of ditributions is known, can be done by:\n",
      "\n",
      "- [K-mean](http://en.wikipedia.org/wiki/K-means_clustering) or [K-medians](http://en.wikipedia.org/wiki/K-medians_clustering) algorithm. These are clustering algorithms and return only \n",
      "the centroids and the boundaries of the different componets (although variance can be of course computed empirically after clustering).\n",
      "- [Expectation Maximization (EM)](http://en.wikipedia.org/wiki/Expectation%E2%80%93maximization_algorithm): \n",
      "finds the [Maximum Likelihood (ML)](http://en.wikipedia.org/wiki/Maximum_likelihood) estimated of the model parameters.\n",
      "\n",
      "In case the number of components $k$ is unknown can be esitmated with the [BIC Criterion](http://scikit-learn.org/stable/modules/mixture.html#selecting-the-number-of-components-in-a-classical-gmm). \n",
      "\n",
      "Another alternative is using the [Dirichlet Process GMM](http://scikit-learn.org/stable/modules/mixture.html#dpgmm).\n",
      "\n",
      "In this notebook we describe the EM method for a GMM distribution with only 2 components.\n",
      "\n"
     ]
    },
    {
     "cell_type": "heading",
     "level": 2,
     "metadata": {},
     "source": [
      "References"
     ]
    },
    {
     "cell_type": "markdown",
     "metadata": {},
     "source": [
      "* [Estimating Gaussian Mixture Densities with EM \u2013 A Tutorial](https://www.cs.duke.edu/courses/spring04/cps196.1/handouts/EM/tomasiEM.pdf) *(PDF)*\n",
      "* [EM for Gaussian Mixtures](http://www.slideshare.net/petitegeek/expectation-maximization-and-gaussian-mixture-models) *(slides)*\n",
      "* [What is the expectation maximization algorithm?](http://www.nature.com/nbt/journal/v26/n8/full/nbt1406.html?pagewanted=all)\n",
      "\n",
      "*  [Data Mining Algorithms In R/Expectation Maximization (EM)](http://en.wikibooks.org/wiki/Data_Mining_Algorithms_In_R/Clustering/Expectation_Maximization_%28EM%29)"
     ]
    },
    {
     "cell_type": "heading",
     "level": 2,
     "metadata": {},
     "source": [
      "Existing Python implementations"
     ]
    },
    {
     "cell_type": "markdown",
     "metadata": {},
     "source": [
      "Python packages implementing EM for GMM:\n",
      "\n",
      "* [scikit-learn](http://scikit-learn.org/stable/modules/mixture.html)\n",
      "* [PyMix](http://www.pymix.org/pymix/index.php?n=PyMix.Tutorial)\n",
      "* [PyPR](http://pypr.sourceforge.net/mog.html)\n",
      "* [PyMC](http://pymc-devs.github.io/pymc/README.html)\n",
      "\n",
      "Short examples/scripts implementing EM:\n",
      "\n",
      "* [577735-expectation-maximization](http://code.activestate.com/recipes/577735-expectation-maximization/)"
     ]
    },
    {
     "cell_type": "heading",
     "level": 1,
     "metadata": {},
     "source": [
      " Simple Mixture Model"
     ]
    },
    {
     "cell_type": "heading",
     "level": 2,
     "metadata": {},
     "source": [
      "Problem introduction"
     ]
    },
    {
     "cell_type": "code",
     "collapsed": false,
     "input": [
      "%pylab inline\n",
      "from numpy import random\n",
      "from scipy.optimize import minimize, show_options"
     ],
     "language": "python",
     "metadata": {},
     "outputs": [
      {
       "output_type": "stream",
       "stream": "stdout",
       "text": [
        "Populating the interactive namespace from numpy and matplotlib\n"
       ]
      }
     ],
     "prompt_number": 2
    },
    {
     "cell_type": "markdown",
     "metadata": {},
     "source": [
      "As a didactical example we want to fit a mixture of two univariate Gaussian distributions.\n",
      "Let call $s = \\{s_i\\}$ a sample of $N$ elements extracted form the mixture distribution,\n",
      "and $s_{1} = \\{s_{1i}\\}$ and $s_{2} = \\{s_{2i}\\}$ the samples extracted from\n",
      "each single Gaussian distribution. In the following we will assume that $s_1$ and $s_2$\n",
      "are not known."
     ]
    },
    {
     "cell_type": "code",
     "collapsed": false,
     "input": [
      "N = 1000\n",
      "a = 0.3\n",
      "s1 =  normal(0, 0.08, size=N*a)\n",
      "s2 = normal(0.6,0.12, size=N*(1-a))\n",
      "s = concatenate([s1,s2])\n",
      "hist(s, bins=20);"
     ],
     "language": "python",
     "metadata": {},
     "outputs": [
      {
       "metadata": {},
       "output_type": "display_data",
       "png": "[encoded data removed]",
       "text": [
        "<matplotlib.figure.Figure at 0x49d8850>"
       ]
      }
     ],
     "prompt_number": 2
    },
    {
     "cell_type": "markdown",
     "metadata": {},
     "source": [
      "The model for this sample is the linear combination of two Gaussian PDF:\n",
      "\n",
      "$$f(x|p) = \\frac{\\pi_1}{\\sigma_1\\sqrt{2\\pi}} {\\rm exp} \\left\\{ -\\frac{(x-\\mu_1)^2}{2\\sigma_1^2} \\right\\} +\n",
      "\\frac{\\pi_2}{\\sigma_2\\sqrt{2\\pi}} {\\rm exp} \\left\\{ -\\frac{(x-\\mu_2)^2}{2\\sigma_2^2} \\right\\}$$\n",
      "\n",
      "where $p = [\\mu_1, \\sigma_1, \\mu_2, \\sigma_2, \\pi_1]$. \n",
      "Note that $\\pi_2$ is not included in $p$ since $\\pi_2 = 1-\\pi_1$.\n",
      "\n",
      "\n",
      "\n",
      "In python we can define $f(x|p)$ using `normpdf()` implemented by *Numpy*: "
     ]
    },
    {
     "cell_type": "code",
     "collapsed": false,
     "input": [
      "def pdf_model(x, p):\n",
      "    mu1, sig1, mu2, sig2, pi_1 = p\n",
      "    return pi_1*normpdf(x, mu1, sig1) + (1-pi_1)*normpdf(x, mu2, sig2)"
     ],
     "language": "python",
     "metadata": {},
     "outputs": [],
     "prompt_number": 28
    },
    {
     "cell_type": "markdown",
     "metadata": {},
     "source": [
      "This function will be used in the following sections."
     ]
    },
    {
     "cell_type": "heading",
     "level": 2,
     "metadata": {},
     "source": [
      "Maximum Likelihood: direct maximization"
     ]
    },
    {
     "cell_type": "markdown",
     "metadata": {},
     "source": [
      ">**NOTE**\n",
      ">\n",
      ">*This section illustrate the direct Maximum Likelihood method (i.e. direct minimization\n",
      ">of the -log-likelihood function). \n",
      ">The purpose is to show that a direct minimization is much more complex and \n",
      ">less robust than the EM algorithm. You can skip this section if you are already conviced\n",
      ">and you want to read about the EM algorithm.*\n",
      "\n",
      "If we try to apply the the **Maximum Likelihood (ML)** method directly, we find that \n",
      "the log-likelihood function is quite difficult to minimize numerically.\n",
      "\n",
      "Given a sample $s = \\{s_i\\}$ of size $N$ extracted from the mixture distribution, the likelihood function is\n",
      "\n",
      "$$\\mathcal{L(p,s)} = \\prod_i f(s_i|p)$$\n",
      "\n",
      "and the log-likelihood function is:\n",
      "\n",
      "$$\\ln \\mathcal{L(p,s)} = \\sum_i \\ln f(s_i|p)$$\n",
      "\n",
      "Now, since $f(\\cdot)$ is the sum of two terms, the term $\\log f(s_i|p)$ can't be simplified (it's the log of a sum). \n",
      "So for each $s_i$ we must compute the log of the sum of two exponetial. \n",
      "It's clear that not only the computation will be slow but also the numerical errors will be amplified.\n",
      "Moreover, often the likelihood function has local maxima other than the global one\n",
      "(in other terms the function is not convex).\n",
      "\n",
      "In python the log-likelihood function can be defined as:"
     ]
    },
    {
     "cell_type": "code",
     "collapsed": false,
     "input": [
      "def log_likelihood_two_1d_gauss(p, sample):\n",
      "    return -log(pdf_model(sample, p)).sum()"
     ],
     "language": "python",
     "metadata": {},
     "outputs": [],
     "prompt_number": 4
    },
    {
     "cell_type": "markdown",
     "metadata": {},
     "source": [
      "If we try to minimize it starting with a close-to-real intial guess $p_0 = [-0.2,0.2,0.8,0.2,0.5]$ we fail with the most common methods.\n",
      "\n",
      ">**Python NOTES:**\n",
      ">\n",
      ">   - Here we use the function `minimize()` from `scipy.optimization`. This function allows\n",
      ">   to choose several minimization methods. The list of (currently) available\n",
      ">   minimization methods is\n",
      "> `'Nelder-Mead'` *(simplex)*, `'Powell'`, `'CG'`, `'BFGS'`, `'Newton-CG'`,>\n",
      "> `'Anneal'`, `'L-BFGS-B'` *(like BFGS but bounded)*, `'TNC'`, `'COBYLA'`, `'SLSQPG'`.\n",
      ">   \n",
      ">   The documetation can be found \n",
      ">   [here](http://docs.scipy.org/doc/scipy/reference/generated/scipy.optimize.minimize.html#scipy.optimize.minimize)."
     ]
    },
    {
     "cell_type": "code",
     "collapsed": false,
     "input": [
      "# Initial guess\n",
      "p0 = array([-0.2,0.2,0.8,0.2,0.5])"
     ],
     "language": "python",
     "metadata": {},
     "outputs": [],
     "prompt_number": 14
    },
    {
     "cell_type": "code",
     "collapsed": false,
     "input": [
      "# Minimization 1\n",
      "res = minimize(log_likelihood_two_1d_gauss, x0=p0, args=(s,), method='BFGS')\n",
      "#res # NOT CONVERGED"
     ],
     "language": "python",
     "metadata": {},
     "outputs": [],
     "prompt_number": 8
    },
    {
     "cell_type": "code",
     "collapsed": false,
     "input": [
      "# Minimization 2\n",
      "res = minimize(log_likelihood_two_1d_gauss, x0=p0, args=(s,), method='powell',\n",
      "        options=dict(maxiter=10e3, maxfev=2e4))\n",
      "#res # NOT CONVERGED"
     ],
     "language": "python",
     "metadata": {},
     "outputs": [],
     "prompt_number": 9
    },
    {
     "cell_type": "code",
     "collapsed": false,
     "input": [
      "# Minimization 3\n",
      "res = minimize(log_likelihood_two_1d_gauss, x0=p0, args=(s,), method='Nelder-Mead',\n",
      "        options=dict(maxiter=10e3, maxfev=2e4))\n",
      "res"
     ],
     "language": "python",
     "metadata": {},
     "outputs": [
      {
       "metadata": {},
       "output_type": "pyout",
       "prompt_number": 10,
       "text": [
        "  status: 0\n",
        "    nfev: 400\n",
        " success: True\n",
        "     fun: -165.57901317159184\n",
        "       x: array([-0.0014299 ,  0.08132343,  0.60423336,  0.12822185,  0.30057825])\n",
        " message: 'Optimization terminated successfully.'\n",
        "     nit: 251"
       ]
      }
     ],
     "prompt_number": 10
    },
    {
     "cell_type": "code",
     "collapsed": false,
     "input": [
      "res.x"
     ],
     "language": "python",
     "metadata": {},
     "outputs": [
      {
       "metadata": {},
       "output_type": "pyout",
       "prompt_number": 11,
       "text": [
        "array([-0.0014299 ,  0.08132343,  0.60423336,  0.12822185,  0.30057825])"
       ]
      }
     ],
     "prompt_number": 11
    },
    {
     "cell_type": "code",
     "collapsed": false,
     "input": [
      "# Minimization 4\n",
      "res = minimize(log_likelihood_two_1d_gauss, x0=p0, args=(s,), method='L-BFGS-B',\n",
      "    bounds=[(-0.5,2),(0.01,0.5),(-0.5,2),(0.01,0.5),(0.01,0.99)])\n",
      "res"
     ],
     "language": "python",
     "metadata": {},
     "outputs": [
      {
       "metadata": {},
       "output_type": "pyout",
       "prompt_number": 12,
       "text": [
        "  status: 0\n",
        " success: True\n",
        "    nfev: 68\n",
        "     fun: -165.57904531339966\n",
        "       x: array([ 0.60425626,  0.12820948, -0.00142931,  0.08132807,  0.69950104])\n",
        " message: 'CONVERGENCE: REL_REDUCTION_OF_F_<=_FACTR*EPSMCH'\n",
        "     jac: array([ 0.00551665, -0.0010715 ,  0.00418083, -0.00135572,  0.00202363])\n",
        "     nit: 38"
       ]
      }
     ],
     "prompt_number": 12
    },
    {
     "cell_type": "code",
     "collapsed": false,
     "input": [
      "# Finds additional options for the different solvers:\n",
      "#show_options('minimize', 'powell')"
     ],
     "language": "python",
     "metadata": {},
     "outputs": [],
     "prompt_number": 15
    },
    {
     "cell_type": "markdown",
     "metadata": {},
     "source": [
      "Executing the minimizations we see that we have convergence only using the `'Nelder-Mead'` (simplex) and the `'L-BFGS-B'`. \n",
      "methods.\n",
      "The latter is much ~10x faster as requires only 28 iteration and 40 function evaluation \n",
      "(instead of 256 iterations and 413 function evaluations).\n",
      "Refer to the **Scipy** documentation for a \n",
      "[description of the methods](http://docs.scipy.org/doc/scipy/reference/generated/scipy.optimize.minimize.html#scipy.optimize.minimize)."
     ]
    },
    {
     "cell_type": "heading",
     "level": 2,
     "metadata": {},
     "source": [
      "Expectation Maximization"
     ]
    },
    {
     "cell_type": "heading",
     "level": 3,
     "metadata": {},
     "source": [
      "Introduction"
     ]
    },
    {
     "cell_type": "markdown",
     "metadata": {},
     "source": [
      "The EM method allows to fit a statistical model in the case where the experimental data\n",
      "has unknown (latent) variables. In the context of a mixture-model fitting\n",
      "we can assume that the latent variables \"tell\" which component has generated each sample.\n",
      "\n",
      "With the EM method, we first \"assign\" each sample to each components of the distribution.\n",
      "After that, we can compute MLE estimators of parameters\n",
      "of each component of the mixture. For Gaussian components the MLE will be basically\n",
      "the empirical mean and variance.\n",
      "\n",
      "It is possible to do the assigment choosing, for each sample, the component that has \n",
      "the highest probability to generate the sample (**hard assignment**). \n",
      "\n",
      "Alternatively it's possible to compute, for each sample $s_i$, the \"fraction\" \n",
      "of $s_i$ generated by each component (**soft assignment**). \n",
      "\n",
      "In our example, for each sample $s_i$ we have two coefficients\n",
      "$\\gamma(i,1)$ and $\\gamma(i,2)$ that represent the fraction of $s_i$ that\n",
      "belongs to (respectively) component 1 and 2. The sum $\\gamma(i,1)+\\gamma(i,2) = 1$. \n",
      "$\\gamma()$ is called in litterature **responsibility fuction**.\n",
      "This soft assignment method is the one commonly used in the context of \n",
      "EM algorithms for mixture model fitting.\n",
      "\n",
      "Only the **soft assignment** scheme will be used is the following sections."
     ]
    },
    {
     "cell_type": "heading",
     "level": 3,
     "metadata": {},
     "source": [
      "Algorithm"
     ]
    },
    {
     "cell_type": "markdown",
     "metadata": {},
     "source": [
      "Starting from the PDF $f_1()$ and $f_2()$ of the single components:\n",
      "\n",
      "$$f_1(x|p) = \\frac{1}{\\sigma_1\\sqrt{2\\pi}} {\\rm exp} \\left\\{ -\\frac{(x-\\mu_1)^2}{2\\sigma_1^2} \\right\\}\n",
      "\\quad\\quad\\quad\n",
      "f_2(x|p) = \\frac{1}{\\sigma_2\\sqrt{2\\pi}} {\\rm exp} \\left\\{ -\\frac{(x-\\mu_2)^2}{2\\sigma_2^2} \\right\\}\n",
      "$$\n",
      "\n",
      "the mixture PDF is:\n",
      "\n",
      "$$ f(x|p) = \\pi_1 f_1(x|p) + \\pi_2 f_2(x|p) $$\n",
      "\n",
      "If we know (or guess initially) the parameters $p$, we can compute for each sample \n",
      "and each component the **responsibility function** defined as:\n",
      "    \n",
      "$$\\gamma(i, k) =  \\frac{\\pi_kf_k(s_i|p)}{f(s_i|p)}$$\n",
      "\n",
      "and starting from the \"effective\" number of samples for each category ($N_k$) we can compute the \n",
      "\"new\" estimation of parameters:\n",
      "    \n",
      "$$N_k = \\sum_{i=1}^N \\gamma(i, k)\n",
      "\\quad\\quad\\quad\n",
      "k=1,2\n",
      "\\quad\n",
      "({\\rm note\\;that} \\quad N_1 + N_2 = N)\n",
      "$$\n",
      "\n",
      "$$\\mu_k^{new} = \\frac{1}{N_k}\\sum_{i=1}^N \\gamma(i, k) \\cdot s_i$$\n",
      "\n",
      "$$\\sigma_k^{2\\,new} = \\frac{1}{N_k}\\sum_{i=1}^N \\gamma(i, k) \\cdot (s_i - \\mu_k^{new})^2$$\n",
      "\n",
      "$$\\pi_k^{new} = \\frac{N_k}{N}$$\n",
      "\n",
      "Now we just loop \n",
      "\n",
      " 1. recompute $\\gamma(i, k)$\n",
      " 2. estimate updated parameters\n",
      "\n",
      "until convergence.\n",
      "\n",
      "**REMARKS**\n",
      "\n",
      "- There is no minimization! It's just an iterative algorithm that theory \n",
      "  guarantee to converge to a (local) minimum.\n",
      "    \n",
      "- We don't even write the likelihood function but we obtain a ML estimation.\n",
      "    \n",
      "- Even if the components of the mixture are not Gaussian, the method works as far as it's possible\n",
      "  to determine the distribution parameters from empirical moments. For example:\n",
      "        \n",
      "     - Poisson distribution, MLE: $$\\hat{\\mu} = \\frac{1}{N}\\sum s_i$$\n",
      "     - Binomial distribution, MLE: $$\\hat{p} = \\frac{N_{success}}{N} $$"
     ]
    },
    {
     "cell_type": "heading",
     "level": 3,
     "metadata": {},
     "source": [
      "Implementation"
     ]
    },
    {
     "cell_type": "markdown",
     "metadata": {},
     "source": [
      "Let implement this EM algorithm in python. For simplicity the iteration is stopped only after a fixed number of iteration:"
     ]
    },
    {
     "cell_type": "code",
     "collapsed": false,
     "input": [
      "max_iter = 100\n",
      "\n",
      "# Initial guess of parameters and initializations\n",
      "p0 = array([-0.2,0.2,0.8,0.2,0.5])\n",
      "mu1, sig1, mu2, sig2, pi_1 = p0\n",
      "mu = array([mu1, mu2])\n",
      "sig = array([sig1, sig2])\n",
      "pi_ = array([pi_1, 1-pi_1])\n",
      "\n",
      "gamma = zeros((2, s.size))\n",
      "N_ = zeros(2)\n",
      "p_new = p0\n",
      "\n",
      "# EM loop\n",
      "counter = 0\n",
      "converged = False\n",
      "while not converged:\n",
      "    # Compute the responsibility func. and new parameters\n",
      "    for k in [0,1]:\n",
      "        gamma[k,:] = pi_[k]*normpdf(s, mu[k], sig[k])/pdf_model(s, p_new)\n",
      "        N_[k] = 1.*gamma[k].sum()\n",
      "        mu[k] = sum(gamma[k]*s)/N_[k]\n",
      "        sig[k] = sqrt( sum(gamma[k]*(s-mu[k])**2)/N_[k] )\n",
      "        pi_[k] = N_[k]/s.size\n",
      "    p_new = [mu[0], sig[0], mu[1], sig[1], pi_[0]]\n",
      "    assert abs(N_.sum() - N)/float(N) < 1e-6 \n",
      "    assert abs(pi_.sum() - 1) < 1e-6\n",
      "    \n",
      "    # Convergence check\n",
      "    counter += 1\n",
      "    converged = counter >= max_iter"
     ],
     "language": "python",
     "metadata": {},
     "outputs": [],
     "prompt_number": 16
    },
    {
     "cell_type": "code",
     "collapsed": false,
     "input": [
      "print \"Means:   %6.3f  %6.3f\" % (p_new[0], p_new[2])\n",
      "print \"Std dev: %6.3f  %6.3f\" % (p_new[1], p_new[3])\n",
      "print \"Mix (1): %6.3f \" % p_new[4]"
     ],
     "language": "python",
     "metadata": {},
     "outputs": [
      {
       "output_type": "stream",
       "stream": "stdout",
       "text": [
        "Means:   -0.001   0.604\n",
        "Std dev:  0.081   0.128\n",
        "Mix (1):  0.300 \n"
       ]
      }
     ],
     "prompt_number": 17
    },
    {
     "cell_type": "code",
     "collapsed": false,
     "input": [
      "print pi_.sum(), N_.sum()"
     ],
     "language": "python",
     "metadata": {},
     "outputs": [
      {
       "output_type": "stream",
       "stream": "stdout",
       "text": [
        "1.0 1000.0\n"
       ]
      }
     ],
     "prompt_number": 18
    },
    {
     "cell_type": "code",
     "collapsed": false,
     "input": [
      "res.x"
     ],
     "language": "python",
     "metadata": {},
     "outputs": [
      {
       "metadata": {},
       "output_type": "pyout",
       "prompt_number": 19,
       "text": [
        "array([ 0.60425626,  0.12820948, -0.00142931,  0.08132807,  0.69950104])"
       ]
      }
     ],
     "prompt_number": 19
    },
    {
     "cell_type": "heading",
     "level": 2,
     "metadata": {},
     "source": [
      "Heteroscetastic Mixture Model"
     ]
    },
    {
     "cell_type": "heading",
     "level": 3,
     "metadata": {},
     "source": [
      "Introduction"
     ]
    },
    {
     "cell_type": "markdown",
     "metadata": {},
     "source": [
      "In the first examples the samples are extracted from a mixture of two gaussians. \n",
      "The samples of each gaussian component are \n",
      "[i.i.d.](http://en.wikipedia.org/wiki/Independent_and_identically_distributed_random_variables) or, \n",
      "in other words each component is [homoscedastic](http://en.wikipedia.org/wiki/Homoscedasticity).\n",
      "\n",
      "In some cases, the components of the mixture are not **homoscedastic** but [**heteroscedastic**](http://en.wikipedia.org/wiki/Heteroscedasticity). This means that within a single component/pupulation\n",
      "of the mixture each sample has a different variance. The variance is assumed to be known."
     ]
    },
    {
     "cell_type": "heading",
     "level": 3,
     "metadata": {},
     "source": [
      "Non-mixture case: Weighted Least Squares"
     ]
    },
    {
     "cell_type": "markdown",
     "metadata": {},
     "source": [
      "Let consider first the case of a single population $s = \\{s_i\\}$ (no mixture), \n",
      "in which all the samples have same mean $\\mu$ but different variances $\\sigma^2_i$. \n",
      "Assuming that the mean square error is **normally distributed** with variance $\\sigma_i$ that the \n",
      "[**Weighted Least Square**](http://en.wikipedia.org/wiki/Weighted_least_squares#Weighted_least_squares)\n",
      "method allows to obtain a **MLE** of the mean:\n",
      "\n",
      "$$ \\hat{\\mu}_{ML} = \\frac{\\sum_i w_i \\cdot s_i}{\\sum_i w_i} \n",
      "\\quad\\quad{\\rm and}\\quad\\quad\n",
      "w_i = \\frac{1}{\\sigma^2_i}\n",
      "$$\n",
      "\n",
      "We can still compute the **mean square error** of the samples:\n",
      "\n",
      "$$ \\sigma_m^2 = \\frac{1}{N}\\sum_i (s_i - \\hat{\\mu}_{ML})^2 $$\n",
      "\n",
      "but it will now have the meaning of \"distribution parameter\" (i.e. the variance) like \n",
      "in the case of i.i.d. gaussian samples. Nonetheless $\\sigma_m^2$\n",
      "provides [descriptive](https://en.wikipedia.org/wiki/Descriptive_statistics) \n",
      "information about the sample variability (or dispersion).\n",
      "\n",
      "We may also introduce other measures of variability weighting the\n",
      "errors in different ways:\n",
      "\n",
      "$$ \\sigma_w^2 = \\frac{\\sum_i w_i (s_i - \\hat{\\mu}_{ML})^2 }{\\sum_i w_i} $$\n",
      "\n",
      "For example let say we want to compare the variability of the two population.\n",
      "An higher variability will mean necessary higher error in the estimator $\\hat{\\mu}$.\n",
      "\n",
      "> **UNRELATED NOTE**\n",
      "> Consider, however, that if the sample population is large enough then\n",
      "> a small variation in the sample dispersion will not significantly affect $\\hat{\\mu}$ since \n",
      "> its error it's already reduced (due to the high # samples) below a significativity threshold.\n",
      "\n",
      "But if we compute $\\hat{\\mu}_{ML}$ weighting each sample, then samples with high variance\n",
      "will affect less the average than samples with small variance. Therefore\n",
      "if we want to estimate the \"accuracy\" (or simply the variance) \n",
      "of $\\hat{\\mu}_{ML}$ then we need to weight **less** the **mean square errors** of\n",
      "samples with high variance. In this context seems natural to use\n",
      "$w_i = 1/\\sigma_i^2$ also to compute $\\sigma_w^2$."
     ]
    },
    {
     "cell_type": "heading",
     "level": 3,
     "metadata": {},
     "source": [
      "Mixture case: Weighted Expectation Maximization"
     ]
    },
    {
     "cell_type": "markdown",
     "metadata": {},
     "source": [
      "To generalize the EM method in case of samples with different variance we can apply different schemes."
     ]
    },
    {
     "cell_type": "markdown",
     "metadata": {},
     "source": [
      "***SCHEME 1***\n",
      "\n",
      "$$\\gamma(i, k) = \\frac{\\pi_kf_k(s_i|p)}{f(s_i|p)} \\color{red}{w_i}$$\n",
      "\n",
      "\n",
      "$N_k$, $\\mu_k^{new}$, $\\sigma_k^{2\\,new}$, $\\pi_k^{new}$ computed as the no-weight case.\n",
      "\n",
      "*Requirement:* $\\sum_i w_i = N$\n",
      "\n",
      "> **NOTE**\n",
      "> In this scheme we **weight more** samples with lower variance. They contribute more \n",
      "> to $N_k = \\sum_i \\gamma(k,i)$ (thus $\\pi_k = N_k/N$). \n",
      "> Also $\\mu_k^{new}$ and to $\\sigma_k^{2\\,new}$ are \"weighted means\": we simply redistribute the weights\n",
      "> including also the information on the variance. \n",
      "> The effect on $\\sigma_k^{2\\,new}$ is that the contribution of high variance samples is less, \n",
      "> so the extimated variance is smaller. This helps to resolve better the sub-populations.\n",
      "> The reduction in the estimated variance is \"consistent\" (not too big) because it is a\n",
      "> weighted mean: a sample with high variance \"weights\" less in the sum, but also contribute\n",
      "> less to the sum of weights (i.e. the normalization og the weighted mean).\n",
      "\n",
      "* **Question**: $N_1 + N_2 = N$ ?\n",
      "    * YES: \n",
      "        1. We set as requirement:$\\quad\\sum_i w_i = N$. \n",
      "        2. From the $N_k$ definition: $\\quad N_1+N_2 = \\sum_{i,k} \\gamma(i,k)$.\n",
      "        3. For each $i$: $\\quad\\gamma(i,1) + \\gamma(i,2) = w_i\\quad$ \n",
      "            *(this sum is 1 in the no-weight case)*\n",
      "        4. $\\Rightarrow \\quad N_1+N_2 =\\sum_{i,k} \\gamma(i,k) = \\sum_i w_i = N$\n",
      "* **Question**: $\\pi_1 + \\pi_2 = 1$? \n",
      "    * YES: Since $\\pi_k = N_k/N$ and $N_1+N_2=N$, \n",
      "        $\\quad\\Rightarrow\\quad \\pi_1 + \\pi_2 = N_1/N+N_2/N = 1$"
     ]
    },
    {
     "cell_type": "markdown",
     "metadata": {},
     "source": [
      "***SCHEME 2 (WARNING: do not converge!)***\n",
      "\n",
      "Here we compute the mean $\\mu_k^{new}$ exactly as in SCHEME1, \"reweighting\" the weights with $w_i$ (here \n",
      "the equation is explicit, in SCHEME1 we included $w_i$ in $\\gamma$):\n",
      "$$\\mu_k^{new} = \\frac{\\sum_{i=1}^N w_i\\gamma(i, k) \\cdot s_i}{N_k \\sum_i w_i}$$\n",
      "\n",
      "No other modification is done compared to the no-weight case\n",
      "\n",
      "> **NOTES**\n",
      ">\n",
      "> This approach is less \"invasive\" and has the advantage to give real empirical variance\n",
      "> (or mean square error) of each sub-population. In contrast with the no-weight case\n",
      "> this apprach gives better estimate of the mean. However (like the no-weight) is less\n",
      "> [efficient](http://en.wikipedia.org/wiki/Efficiency_(statistics)). \n",
      "> In lay terms uses \"less\" information than SCHEME1 \n",
      "> (and requires more iterations to converge).\n",
      "\n",
      "> **WARNING**\n",
      "> This method seems to not be able to converge! TO BE REVIEWED"
     ]
    },
    {
     "cell_type": "heading",
     "level": 4,
     "metadata": {},
     "source": [
      "The code"
     ]
    },
    {
     "cell_type": "markdown",
     "metadata": {},
     "source": [
      "First we define a functions to generate the sample populations:"
     ]
    },
    {
     "cell_type": "code",
     "collapsed": false,
     "input": [
      "from scipy.stats import expon\n",
      "\n",
      "def sim_single_population(mu, N=1000, max_sigma=1, mean_sigma=0.1):\n",
      "    \"\"\"Extract samples from a normal distribution \n",
      "    with variance distributed as an exponetial distrib.\n",
      "    \"\"\"\n",
      "    exp_min_size = 1./max_sigma**2\n",
      "    exp_mean_size = 1./mean_sigma**2\n",
      "    sigma = 1/sqrt(expon.rvs(loc=exp_min_size, scale=exp_mean_size, size=N))\n",
      "    return normal(mu, scale=sigma, size=N), sigma"
     ],
     "language": "python",
     "metadata": {},
     "outputs": [],
     "prompt_number": 3
    },
    {
     "cell_type": "code",
     "collapsed": false,
     "input": [
      "N = 1000\n",
      "a = 0.3\n",
      "s1, sig1 = sim_single_population(0, N=N*a)\n",
      "s2, sig2 = sim_single_population(0.5, N=N*(1-a))\n",
      "s = concatenate([s1, s2])\n",
      "sigma_tot = concatenate([sig1, sig2])\n",
      "hist(s, bins=r_[-1:2:0.025], alpha=0.3, color='g', histtype='stepfilled');\n",
      "ax = twinx(); ax.grid(False)\n",
      "ax.plot(s, 0.1/sigma_tot, 'o', mew=0, ms=2, alpha=0.6, color='b')\n",
      "xlim(-0.5, 1.5); title('Simulates sample (to be fitted)')\n",
      "print \"Means:   %6.3f  %6.3f\" % (s1.mean(), s2.mean())\n",
      "print \"Std dev: %6.3f  %6.3f\" % (sqrt((sig1**2).mean()), sqrt((sig2**2).mean()))\n",
      "print \"Mix (1): %6.3f \" % a"
     ],
     "language": "python",
     "metadata": {},
     "outputs": [
      {
       "output_type": "stream",
       "stream": "stdout",
       "text": [
        "Means:   -0.003   0.486\n",
        "Std dev:  0.203   0.211\n",
        "Mix (1):  0.300 \n"
       ]
      },
      {
       "metadata": {},
       "output_type": "display_data",
       "png": "[encoded data removed]",
       "text": [
        "<matplotlib.figure.Figure at 0x49df990>"
       ]
      }
     ],
     "prompt_number": 15
    },
    {
     "cell_type": "markdown",
     "metadata": {},
     "source": [
      "Then we apply again the EM algorithm and print/plot the results:"
     ]
    },
    {
     "cell_type": "code",
     "collapsed": false,
     "input": [
      "max_iter = 300\n",
      "weights = 1./sigma_tot**2\n",
      "\n",
      "# Renormalizing the weights so they sum to N\n",
      "weights *= 1.*weights.size/weights.sum()\n",
      "\n",
      "# No weights case\n",
      "#weights = ones(s.size)\n",
      "\n",
      "# Initial guess of parameters and initializations\n",
      "p0 = array([-0.1,0.2,0.5,0.2,0.5])\n",
      "mu1, sig1, mu2, sig2, pi_1 = p0\n",
      "mu = array([mu1, mu2])\n",
      "sig = array([sig1, sig2])\n",
      "pi_ = array([pi_1, 1-pi_1])\n",
      "\n",
      "gamma = zeros((2, s.size))\n",
      "N_ = zeros(2)\n",
      "p_new = p0\n",
      "\n",
      "# EM loop\n",
      "counter = 0\n",
      "converged = False\n",
      "while not converged:\n",
      "    # Compute the responsibility func. and new parameters\n",
      "    for k in [0,1]:\n",
      "        #gamma[k,:] = weights*pi_[k]*normpdf(s, mu[k], sig[k])/pdf_model(s, p_new) # SCHEME1\n",
      "        gamma[k,:] = pi_[k]*normpdf(s, mu[k], sig[k])/pdf_model(s, p_new)         # SCHEME2\n",
      "        N_[k] = gamma[k,:].sum()\n",
      "        #mu[k] = sum(gamma[k]*s)/N_[k] # SCHEME1\n",
      "        mu[k] = sum(weights*gamma[k]*s)/sum(weights*gamma[k]) # SCHEME2\n",
      "        sig[k] = sqrt( sum(gamma[k]*(s-mu[k])**2)/N_[k] )\n",
      "        pi_[k] = 1.*N_[k]/N\n",
      "    p_new = [mu[0], sig[0], mu[1], sig[1], pi_[0]]\n",
      "    assert abs(N_.sum() - N)/float(N) < 1e-6 \n",
      "    assert abs(pi_.sum() - 1) < 1e-6\n",
      "    \n",
      "    # Convergence check\n",
      "    counter += 1\n",
      "    converged = counter >= max_iter"
     ],
     "language": "python",
     "metadata": {},
     "outputs": [],
     "prompt_number": 23
    },
    {
     "cell_type": "code",
     "collapsed": false,
     "input": [
      "print \">> NO WEIGHTS\"\n",
      "print \"Means:   %6.3f  %6.3f\" % (p_new[0], p_new[2])\n",
      "print \"Std dev: %6.3f  %6.3f\" % (p_new[1], p_new[3])\n",
      "print \"Mix (1): %6.3f \" % p_new[4]"
     ],
     "language": "python",
     "metadata": {},
     "outputs": [
      {
       "output_type": "stream",
       "stream": "stdout",
       "text": [
        ">> NO WEIGHTS\n",
        "Means:   -0.004   0.506\n",
        "Std dev:  0.195   0.162\n",
        "Mix (1):  0.326 \n"
       ]
      }
     ],
     "prompt_number": 17
    },
    {
     "cell_type": "code",
     "collapsed": false,
     "input": [
      "print \">> WEIGHTED SCHEME1\"\n",
      "print \"Means:   %7.4f  %7.4f\" % (p_new[0], p_new[2])\n",
      "print \"Std dev: %7.4f  %7.4f\" % (p_new[1], p_new[3])\n",
      "print \"Mix (1): %7.4f \" % p_new[4]"
     ],
     "language": "python",
     "metadata": {},
     "outputs": [
      {
       "output_type": "stream",
       "stream": "stdout",
       "text": [
        ">> WEIGHTED SCHEME1\n",
        "Means:   -0.0058   0.4946\n",
        "Std dev:  0.0996   0.0874\n",
        "Mix (1):  0.2969 \n"
       ]
      }
     ],
     "prompt_number": 21
    },
    {
     "cell_type": "code",
     "collapsed": false,
     "input": [
      "print \">> WEIGHTED SCHEME2\"\n",
      "print \"Means:   %6.3f  %6.3f\" % (p_new[0], p_new[2])\n",
      "print \"Std dev: %6.3f  %6.3f\" % (p_new[1], p_new[3])\n",
      "print \"Mix (1): %6.3f \" % p_new[4]"
     ],
     "language": "python",
     "metadata": {},
     "outputs": [
      {
       "output_type": "stream",
       "stream": "stdout",
       "text": [
        ">> WEIGHTED SCHEME2\n",
        "Means:    0.186   0.498\n",
        "Std dev:  0.335   0.090\n",
        "Mix (1):  0.571 \n"
       ]
      }
     ],
     "prompt_number": 24
    },
    {
     "cell_type": "code",
     "collapsed": false,
     "input": [
      "title('NO WEIGHTS')\n",
      "#hist(s, bins=r_[-1:2:0.05], normed=True);\n",
      "x = r_[-1:2:0.01]\n",
      "plot(x, pdf_model(x, p_new), color='k', lw=2); grid(True)\n",
      "plot(s, 0.1/sigma_tot, 'o', mew=0, ms=2, alpha=0.5);"
     ],
     "language": "python",
     "metadata": {},
     "outputs": [
      {
       "metadata": {},
       "output_type": "display_data",
       "png": "[encoded data removed]",
       "text": [
        "<matplotlib.figure.Figure at 0x4be1810>"
       ]
      }
     ],
     "prompt_number": 19
    },
    {
     "cell_type": "code",
     "collapsed": false,
     "input": [
      "title('WEIGHTED SCHEME1')\n",
      "#hist(s, bins=r_[-1:2:0.05], normed=True);\n",
      "x = r_[-1:2:0.01]\n",
      "plot(x, pdf_model(x, p_new), color='k', lw=2); grid(True)\n",
      "plot(s, 0.1/sigma_tot, 'o', mew=0, ms=2, alpha=0.5);"
     ],
     "language": "python",
     "metadata": {},
     "outputs": [
      {
       "metadata": {},
       "output_type": "display_data",
       "png": "[encoded data removed]",
       "text": [
        "<matplotlib.figure.Figure at 0x48b8250>"
       ]
      }
     ],
     "prompt_number": 22
    },
    {
     "cell_type": "code",
     "collapsed": false,
     "input": [
      "title('WEIGHTED SCHEME2')\n",
      "#hist(s, bins=r_[-1:2:0.05], normed=True);\n",
      "x = r_[-1:2:0.01]\n",
      "plot(x, pdf_model(x, p_new), color='k', lw=2); grid(True)\n",
      "plot(s, 0.1/sigma_tot, 'o', mew=0, ms=2, alpha=0.5);"
     ],
     "language": "python",
     "metadata": {},
     "outputs": [
      {
       "metadata": {},
       "output_type": "display_data",
       "png": "[encoded data removed]",
       "text": [
        "<matplotlib.figure.Figure at 0x4be5e10>"
       ]
      }
     ],
     "prompt_number": 25
    },
    {
     "cell_type": "heading",
     "level": 2,
     "metadata": {},
     "source": [
      "Compare EM to other methods"
     ]
    },
    {
     "cell_type": "code",
     "collapsed": false,
     "input": [
      "%pylab inline\n",
      "from scipy.stats import poisson, expon, binom\n",
      "from scipy.optimize import minimize, leastsq\n",
      "from scipy.special import erf"
     ],
     "language": "python",
     "metadata": {},
     "outputs": [
      {
       "output_type": "stream",
       "stream": "stdout",
       "text": [
        "Populating the interactive namespace from numpy and matplotlib\n"
       ]
      }
     ],
     "prompt_number": 30
    },
    {
     "cell_type": "markdown",
     "metadata": {},
     "source": [
      "It seems natural to empirically bechmark the performance of the EM algorithm\n",
      "compared to other common fitting methods. The most simple method is the histogram\n",
      "fitting. Another method is curve-fitting the empirical CDF\n",
      "([ECDF](http://en.wikipedia.org/wiki/Empirical_distribution_function)) which \n",
      "does not require binning.\n",
      "\n",
      "Let define the fitting function we want to compare:"
     ]
    },
    {
     "cell_type": "code",
     "collapsed": false,
     "input": [
      "def fit_two_peaks_EM(sample, sigma, weights=False, p0=array([0.1,0.2,0.6,0.2,0.5]), \n",
      "        max_iter=300, tollerance=1e-3):\n",
      "    \n",
      "    if not weights: w = ones(sample.size)\n",
      "    else: w = 1./(sigma**2)\n",
      "    w *= 1.*w.size/w.sum() # renormalization so they sum to N\n",
      "    \n",
      "    # Initial guess of parameters and initializations\n",
      "    mu = array([p0[0], p0[2]])\n",
      "    sig = array([p0[1], p0[3]])\n",
      "    pi_ = array([p0[4], 1-p0[4]])\n",
      "    \n",
      "    gamma, N_ = zeros((2, sample.size)), zeros(2)\n",
      "    p_new = array(p0)\n",
      "    N = sample.size\n",
      "    \n",
      "    # EM loop\n",
      "    counter = 0\n",
      "    converged, stop_iteration = False, False\n",
      "    while not stop_iteration:\n",
      "        p_old = p_new\n",
      "        # Compute the responsibility func. and new parameters\n",
      "        for k in [0,1]:\n",
      "            gamma[k,:] = w*pi_[k]*normpdf(sample, mu[k], sig[k])/pdf_model(sample, p_new) # SCHEME1\n",
      "            #gamma[k,:] = pi_[k]*normpdf(sample, mu[k], sig[k])/pdf_model(sample, p_new) # SCHEME2\n",
      "            N_[k] = gamma[k,:].sum()\n",
      "            mu[k] = sum(gamma[k]*sample)/N_[k] # SCHEME1\n",
      "            #mu[k] = sum(w*gamma[k]*sample)/sum(w*gamma[k]) # SCHEME2\n",
      "            sig[k] = sqrt( sum(gamma[k]*(sample-mu[k])**2)/N_[k] )\n",
      "            pi_[k] = 1.*N_[k]/N\n",
      "        p_new = array([mu[0], sig[0], mu[1], sig[1], pi_[0]])\n",
      "        assert abs(N_.sum() - N)/float(N) < 1e-6 \n",
      "        assert abs(pi_.sum() - 1) < 1e-6\n",
      "        \n",
      "        # Convergence check\n",
      "        counter += 1\n",
      "        max_variation = max((p_new-p_old)/p_old)\n",
      "        converged = True if max_variation < tollerance else False\n",
      "        stop_iteration = converged or (counter >= max_iter)\n",
      "    #print \"Iterations:\", counter\n",
      "    if not converged: print \"WARNING: Not converged\"\n",
      "    return p_new"
     ],
     "language": "python",
     "metadata": {},
     "outputs": [],
     "prompt_number": 8
    },
    {
     "cell_type": "code",
     "collapsed": false,
     "input": [
      "def fit_two_gauss_mix_hist(s, bins=r_[-0.5:1.5:0.001], weights=None, \n",
      "            p0=[0,0.1,0.5,0.1,0.5]):\n",
      "    \"\"\"Fit the (optionally weighted) histogram with a 2-Gaussian mix PDF.\n",
      "    \"\"\"\n",
      "    H = histogram(s, bins=bins, weights=weights, normed=True)\n",
      "    x = .5*(H[1][1:]+H[1][:-1])\n",
      "    y = H[0]\n",
      "    assert x.size == y.size\n",
      "    \n",
      "    err_func = lambda p, x_, y_: (y_ - pdf_model(x_, p))\n",
      "    res = leastsq(err_func, x0=p0, args=(x,y), full_output=1)\n",
      "    #print res\n",
      "    return array(res[0])"
     ],
     "language": "python",
     "metadata": {},
     "outputs": [],
     "prompt_number": 9
    },
    {
     "cell_type": "code",
     "collapsed": false,
     "input": [
      "def fit_two_gauss_mix_cdf(s, p0=[0.2,1,0.8,1,0.3], weights=None):\n",
      "    \"\"\"Fit the sample s with two gaussians.\n",
      "    \"\"\"\n",
      "    ## Empirical CDF\n",
      "    ecdf = [sort(s), arange(0.5,s.size+0.5)*1./s.size]\n",
      "    \n",
      "    ## CDF for a Gaussian distribution, and for a 2-Gaussian mix\n",
      "    gauss_cdf = lambda x, mu, sigma: 0.5*(1+erf((x-mu)/(sqrt(2)*sigma)))\n",
      "    two_gauss_cdf = lambda x, m1, s1, m2, s2, a:\\\n",
      "            a*gauss_cdf(x,m1,s1)+(1-a)*gauss_cdf(x,m2,s2)\n",
      "\n",
      "    ## Fitting the empirical CDF\n",
      "    fit_func = lambda p, x: two_gauss_cdf(x, *p)\n",
      "    err_func = lambda p, x, y: fit_func(p, x) - y\n",
      "    p,v = leastsq(err_func, x0=p0, args=(ecdf[0],ecdf[1]))\n",
      "    return array(p)"
     ],
     "language": "python",
     "metadata": {},
     "outputs": [],
     "prompt_number": 10
    },
    {
     "cell_type": "markdown",
     "metadata": {},
     "source": [
      "A simple function to draw samples from a mixture of 2 Gaussians:"
     ]
    },
    {
     "cell_type": "code",
     "collapsed": false,
     "input": [
      "def sim_two_gauss_mix(p, N=1000): \n",
      "    s1 =  normal(p[0], p[1], size=N*p[4])\n",
      "    s2 = normal(p[2], p[3], size=N*(1-p[4]))\n",
      "    s = concatenate([s1,s2])\n",
      "    return s"
     ],
     "language": "python",
     "metadata": {},
     "outputs": [],
     "prompt_number": 25
    },
    {
     "cell_type": "markdown",
     "metadata": {},
     "source": [
      "Now define a function perform the fitting an **high number** populations:"
     ]
    },
    {
     "cell_type": "code",
     "collapsed": false,
     "input": [
      "def test_accuracy(N_test=200, **kwargs):\n",
      "    \n",
      "    fit_kwargs = dict()\n",
      "    if 'p0' in kwargs: \n",
      "        fit_kwargs.update(p0=kwargs.pop('p0'))\n",
      "    if 'max_iter' in kwargs: \n",
      "        fit_kwargs.update(max_iter=kwargs.pop('max_iter'))\n",
      "        \n",
      "    pop_kwargs = dict()\n",
      "    pop_kwargs.update(kwargs)\n",
      "    \n",
      "    P_em = zeros((N_test, 5))\n",
      "    P_h = zeros((N_test, 5))\n",
      "    P_cdf = zeros((N_test, 5))\n",
      "    for i_test in xrange(N_test):\n",
      "        s = sim_two_gauss_mix(**pop_kwargs)\n",
      "        \n",
      "        P_em[i_test,:] = fit_two_peaks_EM(s, sigma=None, weights=False, **fit_kwargs)\n",
      "        if 'max_iter' in fit_kwargs: fit_kwargs.pop('max_iter')\n",
      "        P_h[i_test,:] = fit_two_gauss_mix_hist(s, bins=r_[-0.5:1.5:0.01], weights=None, **fit_kwargs)\n",
      "        P_cdf[i_test,:] = fit_two_gauss_mix_cdf(s)\n",
      "        \n",
      "    return P_em, P_h, P_cdf"
     ],
     "language": "python",
     "metadata": {},
     "outputs": [],
     "prompt_number": 71
    },
    {
     "cell_type": "code",
     "collapsed": false,
     "input": [
      "def plot_accuracy(P_LIST, labels, name=\"Fit comparison\", ip=0, \n",
      "                  bins=(r_[0.2:0.5:0.004]+0.002)):\n",
      "    print \"METH\\t   MEAN  STD.DEV.\"\n",
      "    for P, label in zip(P_LIST, labels):\n",
      "        hist(P[:,ip], bins=bins, histtype='stepfilled', alpha=0.5, label=label);\n",
      "        print \"%s:\\t %6.2f %6.2f\" % (label, P[:,ip].mean()*100, P[:,ip].std()*100)\n",
      "    legend(); grid(True); title(name);"
     ],
     "language": "python",
     "metadata": {},
     "outputs": [],
     "prompt_number": 75
    },
    {
     "cell_type": "heading",
     "level": 3,
     "metadata": {},
     "source": [
      "Study of different populations"
     ]
    },
    {
     "cell_type": "markdown",
     "metadata": {},
     "source": [
      "**CASE 1**: Half-mixed populations"
     ]
    },
    {
     "cell_type": "code",
     "collapsed": false,
     "input": [
      "s = sim_two_gauss_mix(N=1000, p=[0,0.15,0.5,0.15,0.3])\n",
      "hist(s, bins=r_[-0.4:1:0.05]);"
     ],
     "language": "python",
     "metadata": {},
     "outputs": [
      {
       "metadata": {},
       "output_type": "display_data",
       "png": "[encoded data removed]",
       "text": [
        "<matplotlib.figure.Figure at 0x48d83d0>"
       ]
      }
     ],
     "prompt_number": 96
    },
    {
     "cell_type": "code",
     "collapsed": false,
     "input": [
      "P_em, P_h, P_cdf = test_accuracy(N_test=2000, N=200, p=[0,0.15,0.5,0.15,0.3],\n",
      "                                              p0=[0,0.1,0.6,0.1,0.5])"
     ],
     "language": "python",
     "metadata": {},
     "outputs": [],
     "prompt_number": 97
    },
    {
     "cell_type": "code",
     "collapsed": false,
     "input": [
      "plot_accuracy([P_em, P_h, P_cdf], labels=['EM', 'hist', 'CDF'], ip=0,\n",
      "              bins=(r_[-.2:.2:0.01]))"
     ],
     "language": "python",
     "metadata": {},
     "outputs": [
      {
       "output_type": "stream",
       "stream": "stdout",
       "text": [
        "METH\t   MEAN  STD.DEV.\n",
        "EM:\t   0.52   4.15"
       ]
      },
      {
       "output_type": "stream",
       "stream": "stdout",
       "text": [
        "\n",
        "hist:\t   1.36   6.17\n",
        "CDF:\t   9.68  14.21\n"
       ]
      },
      {
       "metadata": {},
       "output_type": "display_data",
       "png": "[encoded data removed]",
       "text": [
        "<matplotlib.figure.Figure at 0x3e10f90>"
       ]
      }
     ],
     "prompt_number": 100
    },
    {
     "cell_type": "code",
     "collapsed": false,
     "input": [
      "plot_accuracy([P_em, P_h, P_cdf], labels=['EM', 'hist', 'CDF'], ip=2,\n",
      "              bins=(r_[.4:.6:0.005]))"
     ],
     "language": "python",
     "metadata": {},
     "outputs": [
      {
       "output_type": "stream",
       "stream": "stdout",
       "text": [
        "METH\t   MEAN  STD.DEV.\n",
        "EM:\t  50.24   2.01"
       ]
      },
      {
       "output_type": "stream",
       "stream": "stdout",
       "text": [
        "\n",
        "hist:\t  50.25   2.33\n",
        "CDF:\t  48.53  10.79\n"
       ]
      },
      {
       "metadata": {},
       "output_type": "display_data",
       "png": "[encoded data removed]",
       "text": [
        "<matplotlib.figure.Figure at 0x48be850>"
       ]
      }
     ],
     "prompt_number": 101
    },
    {
     "cell_type": "markdown",
     "metadata": {},
     "source": [
      "<div class=warn>\n",
      "**EM** is better both for bias and accuracy (CDF is worst)\n",
      "</div>"
     ]
    },
    {
     "cell_type": "markdown",
     "metadata": {},
     "source": [
      "**CASE 2**: Separated populations"
     ]
    },
    {
     "cell_type": "code",
     "collapsed": false,
     "input": [
      "sample_parameters = dict(N=200, p=[0,0.15,0.8,0.15,0.7])\n",
      "s = sim_two_gauss_mix(**sample_parameters)\n",
      "hist(s, bins=r_[-0.4:1:0.05]);"
     ],
     "language": "python",
     "metadata": {},
     "outputs": [
      {
       "metadata": {},
       "output_type": "display_data",
       "png": "[encoded data removed]",
       "text": [
        "<matplotlib.figure.Figure at 0x48da890>"
       ]
      }
     ],
     "prompt_number": 102
    },
    {
     "cell_type": "code",
     "collapsed": false,
     "input": [
      "P_em, P_h, P_cdf = test_accuracy(N_test=2000, p0=[0,0.1,0.6,0.1,0.5],\n",
      "                                 **sample_parameters)"
     ],
     "language": "python",
     "metadata": {},
     "outputs": [],
     "prompt_number": 103
    },
    {
     "cell_type": "code",
     "collapsed": false,
     "input": [
      "plot_accuracy([P_em, P_h, P_cdf], labels=['EM', 'hist', 'CDF'], ip=0,\n",
      "              bins=(r_[-.1:.1:0.005]))"
     ],
     "language": "python",
     "metadata": {},
     "outputs": [
      {
       "output_type": "stream",
       "stream": "stdout",
       "text": [
        "METH\t   MEAN  STD.DEV.\n",
        "EM:\t   0.01   1.29"
       ]
      },
      {
       "output_type": "stream",
       "stream": "stdout",
       "text": [
        "\n",
        "hist:\t   0.01   1.56\n",
        "CDF:\t  -0.05   1.47\n"
       ]
      },
      {
       "metadata": {},
       "output_type": "display_data",
       "png": "[encoded data removed]",
       "text": [
        "<matplotlib.figure.Figure at 0x347ab50>"
       ]
      }
     ],
     "prompt_number": 104
    },
    {
     "cell_type": "code",
     "collapsed": false,
     "input": [
      "plot_accuracy([P_em, P_h, P_cdf], labels=['EM', 'hist', 'CDF'], ip=2,\n",
      "              bins=(r_[.7:.9:0.005]))"
     ],
     "language": "python",
     "metadata": {},
     "outputs": [
      {
       "output_type": "stream",
       "stream": "stdout",
       "text": [
        "METH\t   MEAN  STD.DEV.\n",
        "EM:\t  80.00   2.03"
       ]
      },
      {
       "output_type": "stream",
       "stream": "stdout",
       "text": [
        "\n",
        "hist:\t  80.04   2.45\n",
        "CDF:\t  78.70   6.54\n"
       ]
      },
      {
       "metadata": {},
       "output_type": "display_data",
       "png": "[encoded data removed]",
       "text": [
        "<matplotlib.figure.Figure at 0x41e7890>"
       ]
      }
     ],
     "prompt_number": 105
    },
    {
     "cell_type": "markdown",
     "metadata": {},
     "source": [
      "<div class=warn>\n",
      "**EM** is better both for bias and accuracy (CDF is worst)\n",
      "</div>"
     ]
    },
    {
     "cell_type": "code",
     "collapsed": false,
     "input": [],
     "language": "python",
     "metadata": {},
     "outputs": []
    },
    {
     "cell_type": "code",
     "collapsed": false,
     "input": [],
     "language": "python",
     "metadata": {},
     "outputs": []
    },
    {
     "cell_type": "code",
     "collapsed": false,
     "input": [],
     "language": "python",
     "metadata": {},
     "outputs": []
    },
    {
     "cell_type": "code",
     "collapsed": false,
     "input": [],
     "language": "python",
     "metadata": {},
     "outputs": []
    },
    {
     "cell_type": "code",
     "collapsed": false,
     "input": [],
     "language": "python",
     "metadata": {},
     "outputs": []
    },
    {
     "cell_type": "code",
     "collapsed": false,
     "input": [],
     "language": "python",
     "metadata": {},
     "outputs": []
    },
    {
     "cell_type": "code",
     "collapsed": false,
     "input": [],
     "language": "python",
     "metadata": {},
     "outputs": []
    },
    {
     "cell_type": "code",
     "collapsed": false,
     "input": [
      "from IPython.core.display import HTML\n",
      "def css_styling():\n",
      "    styles = open(\"./styles/custom.css\", \"r\").read()\n",
      "    return HTML(styles)\n",
      "css_styling()"
     ],
     "language": "python",
     "metadata": {},
     "outputs": [
      {
       "html": [
        "<style>\n",
        "    @font-face {\n",
        "        font-family: \"Computer Modern\";\n",
        "        src: url('http://mirrors.ctan.org/fonts/cm-unicode/fonts/otf/cmunss.otf');\n",
        "    }\n",
        "    div.cell{\n",
        "        width:900px;\n",
        "        margin-left:8% !important;\n",
        "        margin-right:auto;\n",
        "    }\n",
        "    h1 {\n",
        "        font-family: Helvetica, serif;\n",
        "    }\n",
        "    h4{\n",
        "        margin-top:12px;\n",
        "        margin-bottom: 3px;\n",
        "       }\n",
        "    div.text_cell_render{\n",
        "        font-family: Computer Modern, \"Helvetica Neue\", Arial, Helvetica, Geneva, sans-serif;\n",
        "        line-height: 120%;\n",
        "        font-size: 125%;\n",
        "        width:800px;\n",
        "        margin-left:auto;\n",
        "        margin-right:auto;\n",
        "    }\n",
        "    blockquote  p {\n",
        "\t/*margin: 1em 2em;*/\n",
        "\tline-height: 140%;\n",
        "    }\n",
        "\n",
        "    div.warn {    \n",
        "        background-color: #fcf2f2;\n",
        "        border-color: #dFb5b4;\n",
        "        border-left: 5px solid #dfb5b4;\n",
        "        padding: 0.5em;\n",
        "        }\n",
        "        \n",
        "    .rendered_html code {\n",
        "\tbackground-color: #f7f7f7;\n",
        "\tborder: 1px solid #dddddd;\n",
        "\tcolor: black;\n",
        "\tline-height: 1.1em;\n",
        "    \tpadding: 0.15em;\n",
        "\tfont-size: 85%;\n",
        "    }\n",
        "\n",
        "    .CodeMirror{\n",
        "            font-family: \"Source Code Pro\", source-code-pro,Consolas, monospace;\n",
        "    }\n",
        "    /*.prompt{\n",
        "        display: None;\n",
        "    }*/\n",
        "    .text_cell_render h5 {\n",
        "        font-weight: 300;\n",
        "        font-size: 22pt;\n",
        "        color: #4057A1;\n",
        "        font-style: italic;\n",
        "        margin-bottom: .5em;\n",
        "        margin-top: 0.5em;\n",
        "        display: block;\n",
        "    }\n",
        "    \n",
        "    .warning{\n",
        "        color: rgb( 240, 20, 20 )\n",
        "        }  \n",
        "</style>\n",
        "<script>\n",
        "    MathJax.Hub.Config({\n",
        "                        TeX: {\n",
        "                           extensions: [\"AMSmath.js\"]\n",
        "                           },\n",
        "                tex2jax: {\n",
        "                    inlineMath: [ ['$','$'], [\"\\\\(\",\"\\\\)\"] ],\n",
        "                    displayMath: [ ['$$','$$'], [\"\\\\[\",\"\\\\]\"] ]\n",
        "                },\n",
        "                displayAlign: 'left', // Change this to 'center' to center equations.\n",
        "                \"HTML-CSS\": {\n",
        "                    styles: {'.MathJax_Display': {\"margin\": 4}}\n",
        "                }\n",
        "        });\n",
        "</script>\n"
       ],
       "metadata": {},
       "output_type": "pyout",
       "prompt_number": 95,
       "text": [
        "<IPython.core.display.HTML at 0x3e20490>"
       ]
      }
     ],
     "prompt_number": 95
    }
   ],
   "metadata": {}
  }
 ]
}