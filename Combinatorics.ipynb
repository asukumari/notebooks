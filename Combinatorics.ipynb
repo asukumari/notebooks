{
 "cells": [
  {
   "cell_type": "markdown",
   "metadata": {},
   "source": [
    "# Combinatorics\n",
    "\n",
    "*A refresher of combinatorics using Python.*"
   ]
  },
  {
   "cell_type": "code",
   "execution_count": 1,
   "metadata": {
    "inputHidden": false,
    "outputHidden": false
   },
   "outputs": [],
   "source": [
    "import itertools as it\n",
    "from collections import Counter\n",
    "import scipy.special as ss"
   ]
  },
  {
   "cell_type": "markdown",
   "metadata": {},
   "source": [
    "> I am going to use functions `factorial` and `binom` (binomial coefficient) defined in `scipy.special`.\n",
    "> Combinations and permutations can be generated using combinatorics functions in `itertools`.\n",
    "> Finally, `collections.Counter` comes handy to brute-force the solution to the problem at the end of this notebook."
   ]
  },
  {
   "cell_type": "markdown",
   "metadata": {},
   "source": [
    "## Combinations\n",
    "\n",
    "Number of unique sets of size $r$ from a pool of size $n$.\n",
    "\n",
    "\n",
    "$$ \\textrm{# combinations} = \\binom{n}{r} = \\frac{n!}{r! \\; (n - r)!}$$"
   ]
  },
  {
   "cell_type": "markdown",
   "metadata": {},
   "source": [
    "### Example: combinations of $n$ elements out of $n$:"
   ]
  },
  {
   "cell_type": "code",
   "execution_count": 2,
   "metadata": {
    "inputHidden": false,
    "outputHidden": false
   },
   "outputs": [
    {
     "data": {
      "text/plain": [
       "1.0"
      ]
     },
     "execution_count": 2,
     "metadata": {},
     "output_type": "execute_result"
    }
   ],
   "source": [
    "ss.binom(10, 10)"
   ]
  },
  {
   "cell_type": "markdown",
   "metadata": {},
   "source": [
    "> Only one way to take $n$ elements from a pool of $n$"
   ]
  },
  {
   "cell_type": "markdown",
   "metadata": {},
   "source": [
    "### Example: combinations of 4 elements out of 36:"
   ]
  },
  {
   "cell_type": "code",
   "execution_count": 3,
   "metadata": {
    "inputHidden": false,
    "outputHidden": false
   },
   "outputs": [
    {
     "data": {
      "text/plain": [
       "58905.0"
      ]
     },
     "execution_count": 3,
     "metadata": {},
     "output_type": "execute_result"
    }
   ],
   "source": [
    "ss.binom(36, 4)"
   ]
  },
  {
   "cell_type": "markdown",
   "metadata": {},
   "source": [
    "Let python literally count all the combinations:"
   ]
  },
  {
   "cell_type": "code",
   "execution_count": 4,
   "metadata": {
    "inputHidden": false,
    "outputHidden": false
   },
   "outputs": [
    {
     "data": {
      "text/plain": [
       "58905"
      ]
     },
     "execution_count": 4,
     "metadata": {},
     "output_type": "execute_result"
    }
   ],
   "source": [
    "len(list(it.combinations(range(36), 4)))"
   ]
  },
  {
   "cell_type": "markdown",
   "metadata": {},
   "source": [
    "## Permutations\n",
    "\n",
    "Generalized permutations are the number of **ordered** sets of size $r$ from a pool of $n$.\n",
    "\n",
    "- If $r = n$ (usual permutations):\n",
    "\n",
    "$$\\textrm{# permutations} = n!$$\n",
    "\n",
    "- If $r < n$ (generalization):\n",
    "\n",
    "$$\\textrm{# permutations} = \\frac{n!}{(n - r)!}$$"
   ]
  },
  {
   "cell_type": "markdown",
   "metadata": {},
   "source": [
    "### Example: permutations of $n$ elements from a pool of $n$\n",
    "\n",
    "This is the common-sense \"permutation\":"
   ]
  },
  {
   "cell_type": "code",
   "execution_count": 5,
   "metadata": {
    "inputHidden": false,
    "outputHidden": false
   },
   "outputs": [
    {
     "data": {
      "text/plain": [
       "array(24.)"
      ]
     },
     "execution_count": 5,
     "metadata": {},
     "output_type": "execute_result"
    }
   ],
   "source": [
    "ss.factorial(4)"
   ]
  },
  {
   "cell_type": "code",
   "execution_count": 6,
   "metadata": {
    "inputHidden": false,
    "outputHidden": false
   },
   "outputs": [
    {
     "data": {
      "text/plain": [
       "array(120.)"
      ]
     },
     "execution_count": 6,
     "metadata": {},
     "output_type": "execute_result"
    }
   ],
   "source": [
    "ss.factorial(5)"
   ]
  },
  {
   "cell_type": "markdown",
   "metadata": {},
   "source": [
    "Counting in python leads the same results:"
   ]
  },
  {
   "cell_type": "code",
   "execution_count": 7,
   "metadata": {
    "inputHidden": false,
    "outputHidden": false
   },
   "outputs": [
    {
     "data": {
      "text/plain": [
       "24"
      ]
     },
     "execution_count": 7,
     "metadata": {},
     "output_type": "execute_result"
    }
   ],
   "source": [
    "len(list(it.permutations(range(4))))"
   ]
  },
  {
   "cell_type": "code",
   "execution_count": 8,
   "metadata": {
    "inputHidden": false,
    "outputHidden": false
   },
   "outputs": [
    {
     "data": {
      "text/plain": [
       "120"
      ]
     },
     "execution_count": 8,
     "metadata": {},
     "output_type": "execute_result"
    }
   ],
   "source": [
    "len(list(it.permutations(range(5))))"
   ]
  },
  {
   "cell_type": "markdown",
   "metadata": {},
   "source": [
    "### Example: permutations of $r$ elements from a pool of $n$"
   ]
  },
  {
   "cell_type": "code",
   "execution_count": 9,
   "metadata": {
    "inputHidden": false,
    "outputHidden": false
   },
   "outputs": [
    {
     "data": {
      "text/plain": [
       "1413720.0"
      ]
     },
     "execution_count": 9,
     "metadata": {},
     "output_type": "execute_result"
    }
   ],
   "source": [
    "ss.factorial(36, True) / ss.factorial(36 - 4, True)"
   ]
  },
  {
   "cell_type": "code",
   "execution_count": 10,
   "metadata": {
    "inputHidden": false,
    "outputHidden": false
   },
   "outputs": [
    {
     "data": {
      "text/plain": [
       "1413720"
      ]
     },
     "execution_count": 10,
     "metadata": {},
     "output_type": "execute_result"
    }
   ],
   "source": [
    "len(list(it.permutations(range(36), 4)))"
   ]
  },
  {
   "cell_type": "markdown",
   "metadata": {},
   "source": [
    "# Problem\n",
    "\n",
    "A deck of cards has ranks 6, 7, 8, 9, 10, J, Q, K, A (9 ranks) and 4 suits (D, C, H, S), in total 36 cards."
   ]
  },
  {
   "cell_type": "code",
   "execution_count": 11,
   "metadata": {},
   "outputs": [
    {
     "data": {
      "text/plain": [
       "36"
      ]
     },
     "execution_count": 11,
     "metadata": {},
     "output_type": "execute_result"
    }
   ],
   "source": [
    "deck = set(it.product('DCHS', '67890JQKA'))\n",
    "len(deck)"
   ]
  },
  {
   "cell_type": "markdown",
   "metadata": {},
   "source": [
    "## Question A\n",
    "\n",
    "Taking 4 cards, what's the probability of all 4 having the same rank?"
   ]
  },
  {
   "cell_type": "markdown",
   "metadata": {},
   "source": [
    "### Answer A\n",
    "\n",
    "**Method 1:** Counting only sets (neglecting the order)\n",
    "\n",
    "We have 9 winning sets out of a total of $\\binom{36}{4}$. The probability is the ratio:"
   ]
  },
  {
   "cell_type": "code",
   "execution_count": 12,
   "metadata": {
    "inputHidden": false,
    "outputHidden": false
   },
   "outputs": [
    {
     "data": {
      "text/plain": [
       "0.00015278838808250572"
      ]
     },
     "execution_count": 12,
     "metadata": {},
     "output_type": "execute_result"
    }
   ],
   "source": [
    "prob_A = 9 / ss.binom(36, 4)\n",
    "prob_A"
   ]
  },
  {
   "cell_type": "markdown",
   "metadata": {},
   "source": [
    "**Method 2:** Counting all combinations\n",
    "\n",
    "For each rank we have $4!$ permutations. So, the winning ordered sets are $9 \\cdot 4!$.\n",
    "\n",
    "All the permutations of 4 cards from a deck of 36 are $36! \\,/\\, 32!$.\n",
    "\n",
    "Taking the ratio:"
   ]
  },
  {
   "cell_type": "code",
   "execution_count": 13,
   "metadata": {
    "inputHidden": false,
    "outputHidden": false
   },
   "outputs": [
    {
     "data": {
      "text/plain": [
       "True"
      ]
     },
     "execution_count": 13,
     "metadata": {},
     "output_type": "execute_result"
    }
   ],
   "source": [
    "(9 * ss.factorial(4, True)) / (ss.factorial(36)/ss.factorial(32, True)) == prob_A"
   ]
  },
  {
   "cell_type": "markdown",
   "metadata": {},
   "source": [
    "**Solution brute force**\n",
    "\n",
    "We select all the winning sets from the set of combinations of 4 cards:"
   ]
  },
  {
   "cell_type": "code",
   "execution_count": 14,
   "metadata": {},
   "outputs": [
    {
     "data": {
      "text/plain": [
       "[(('D', 'K'), ('S', 'K'), ('H', 'K'), ('C', 'K')),\n",
       " (('C', '7'), ('D', '7'), ('S', '7'), ('H', '7')),\n",
       " (('S', '8'), ('C', '8'), ('H', '8'), ('D', '8')),\n",
       " (('S', '6'), ('H', '6'), ('C', '6'), ('D', '6')),\n",
       " (('H', 'Q'), ('S', 'Q'), ('D', 'Q'), ('C', 'Q')),\n",
       " (('S', '0'), ('H', '0'), ('C', '0'), ('D', '0')),\n",
       " (('H', 'A'), ('S', 'A'), ('D', 'A'), ('C', 'A')),\n",
       " (('D', '9'), ('C', '9'), ('H', '9'), ('S', '9')),\n",
       " (('C', 'J'), ('D', 'J'), ('S', 'J'), ('H', 'J'))]"
      ]
     },
     "execution_count": 14,
     "metadata": {},
     "output_type": "execute_result"
    }
   ],
   "source": [
    "winset = [cardset for cardset in it.combinations(deck, 4) \n",
    "          if len(set(card[1] for card in cardset)) == 1]\n",
    "winset"
   ]
  },
  {
   "cell_type": "code",
   "execution_count": 15,
   "metadata": {},
   "outputs": [
    {
     "data": {
      "text/plain": [
       "9"
      ]
     },
     "execution_count": 15,
     "metadata": {},
     "output_type": "execute_result"
    }
   ],
   "source": [
    "len(winset)"
   ]
  },
  {
   "cell_type": "code",
   "execution_count": 16,
   "metadata": {},
   "outputs": [
    {
     "data": {
      "text/plain": [
       "True"
      ]
     },
     "execution_count": 16,
     "metadata": {},
     "output_type": "execute_result"
    }
   ],
   "source": [
    "len(winset) / len(list(it.combinations(deck, 4))) == prob_A"
   ]
  },
  {
   "cell_type": "markdown",
   "metadata": {},
   "source": [
    "## Question B\n",
    "\n",
    "Taking 5 cards, what's the probability of having 4 with the same rank?"
   ]
  },
  {
   "cell_type": "markdown",
   "metadata": {},
   "source": [
    "**Method 1** counting sets\n",
    "\n",
    "Once we have 4 cards with the same rank, the fifth can be one of the remaining 32 cards.\n",
    "So, we have 32 sets of 5 cards with the same 4 cards of same rank. The total number of winning sets is $9 \\cdot 32 = 288$.\n",
    "\n",
    "The total number of sets of 5 cards out of a deck of 36 are $\\binom{36}{5}$\n",
    "\n",
    "Taking the ratio:"
   ]
  },
  {
   "cell_type": "code",
   "execution_count": 18,
   "metadata": {
    "inputHidden": false,
    "outputHidden": false
   },
   "outputs": [
    {
     "data": {
      "text/plain": [
       "0.0007639419404125286"
      ]
     },
     "execution_count": 18,
     "metadata": {},
     "output_type": "execute_result"
    }
   ],
   "source": [
    "prob_B = (9 * 32) / int(ss.binom(36, 5))\n",
    "prob_B"
   ]
  },
  {
   "cell_type": "markdown",
   "metadata": {},
   "source": [
    "**Brute force method**\n",
    "\n",
    "We select all the winning sets from the set of combinations of 5 cards:"
   ]
  },
  {
   "cell_type": "code",
   "execution_count": 19,
   "metadata": {},
   "outputs": [
    {
     "data": {
      "text/plain": [
       "[(('D', 'K'), ('C', '7'), ('D', '7'), ('S', '7'), ('H', '7')),\n",
       " (('D', 'K'), ('C', '7'), ('S', 'K'), ('H', 'K'), ('C', 'K')),\n",
       " (('D', 'K'), ('S', '8'), ('C', '8'), ('H', '8'), ('D', '8')),\n",
       " (('D', 'K'), ('S', '8'), ('S', 'K'), ('H', 'K'), ('C', 'K')),\n",
       " (('D', 'K'), ('S', '6'), ('H', '6'), ('C', '6'), ('D', '6')),\n",
       " (('D', 'K'), ('S', '6'), ('S', 'K'), ('H', 'K'), ('C', 'K')),\n",
       " (('D', 'K'), ('H', '6'), ('S', 'K'), ('H', 'K'), ('C', 'K')),\n",
       " (('D', 'K'), ('H', 'Q'), ('S', 'Q'), ('D', 'Q'), ('C', 'Q')),\n",
       " (('D', 'K'), ('H', 'Q'), ('S', 'K'), ('H', 'K'), ('C', 'K')),\n",
       " (('D', 'K'), ('D', '7'), ('S', 'K'), ('H', 'K'), ('C', 'K'))]"
      ]
     },
     "execution_count": 19,
     "metadata": {},
     "output_type": "execute_result"
    }
   ],
   "source": [
    "winset = []\n",
    "for cardset in it.combinations(deck, 5):\n",
    "    rank_counts = Counter(card[1] for card in cardset)\n",
    "    if len(rank_counts) == 2 and max(rank_counts.values()) == 4:\n",
    "        winset.append(cardset)\n",
    "winset[:10]"
   ]
  },
  {
   "cell_type": "code",
   "execution_count": 20,
   "metadata": {},
   "outputs": [
    {
     "data": {
      "text/plain": [
       "288"
      ]
     },
     "execution_count": 20,
     "metadata": {},
     "output_type": "execute_result"
    }
   ],
   "source": [
    "len(winset)"
   ]
  },
  {
   "cell_type": "code",
   "execution_count": 21,
   "metadata": {},
   "outputs": [
    {
     "data": {
      "text/plain": [
       "True"
      ]
     },
     "execution_count": 21,
     "metadata": {},
     "output_type": "execute_result"
    }
   ],
   "source": [
    "len(winset) / len(list(it.combinations(deck, 5))) == prob_B"
   ]
  },
  {
   "cell_type": "markdown",
   "metadata": {},
   "source": [
    "## Final considerations\n",
    "\n",
    "Note this:"
   ]
  },
  {
   "cell_type": "code",
   "execution_count": 22,
   "metadata": {},
   "outputs": [
    {
     "data": {
      "text/plain": [
       "5.0"
      ]
     },
     "execution_count": 22,
     "metadata": {},
     "output_type": "execute_result"
    }
   ],
   "source": [
    "prob_B / prob_A"
   ]
  },
  {
   "cell_type": "markdown",
   "metadata": {},
   "source": [
    "The result with 5 cards is exactly 5 times more probable! There must be an intuitive explanation of why it is so. Otherwise, it can be demonstrated algebraically that\n",
    "this is true in general.\n",
    "\n",
    "- $s$ number of suits\n",
    "- $r$ number of ranks\n",
    "- $n = r s$ number of cards in a deck\n",
    "\n",
    "- $k$ number of cards we get from the deck\n",
    "\n",
    "Case A, k = 4:\n",
    "\n",
    "$$ \\frac{r}{\\binom{n}{k}} = r \\frac{k!\\,(n - k)!}{n!} = \\frac{k!\\,(n - k)!}{s (n-1)!} = A$$\n",
    "\n",
    "Case B, k' = k + 1 = 5:\n",
    "\n",
    "$$ \\frac{r (n - k)}{\\binom{n}{k'}} = r (n - k) \\frac{k'! (n-k')!}{n!} = (n - k) \\frac{k'! (n-k')!}{s (n -1)!} = $$\n",
    "\n",
    "$$= (n - k) \\frac{(k + 1) k! (n-k)!/ (n - k)}{s (n -1)!} = (k + 1) \\frac{k!\\,(n - k)!}{s (n-1)!} = (k + 1) A$$\n",
    "\n",
    "The probability in case B is always $(k+1)$ times larger than case A."
   ]
  },
  {
   "cell_type": "code",
   "execution_count": null,
   "metadata": {
    "inputHidden": false,
    "outputHidden": false
   },
   "outputs": [],
   "source": []
  }
 ],
 "metadata": {
  "kernel_info": {
   "name": "python3"
  },
  "kernelspec": {
   "display_name": "Python 3",
   "language": "python",
   "name": "python3"
  },
  "language_info": {
   "codemirror_mode": {
    "name": "ipython",
    "version": 3
   },
   "file_extension": ".py",
   "mimetype": "text/x-python",
   "name": "python",
   "nbconvert_exporter": "python",
   "pygments_lexer": "ipython3",
   "version": "3.6.5"
  },
  "nteract": {
   "version": "0.11.7"
  },
  "toc": {
   "nav_menu": {},
   "number_sections": false,
   "sideBar": true,
   "skip_h1_title": false,
   "toc_cell": false,
   "toc_position": {},
   "toc_section_display": "block",
   "toc_window_display": false
  }
 },
 "nbformat": 4,
 "nbformat_minor": 4
}
