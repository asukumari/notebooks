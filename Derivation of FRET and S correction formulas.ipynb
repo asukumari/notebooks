{
 "cells": [
  {
   "cell_type": "markdown",
   "metadata": {},
   "source": [
    "# Derivation of FRET and S correction formulas\n",
    "\n",
    "*Antonino Ingargiola* - [github page](https://github.com/tritemio)"
   ]
  },
  {
   "cell_type": "markdown",
   "metadata": {},
   "source": [
    "# Abstract\n",
    "\n",
    "*In this notebook we derive different expression for correction of $E$ and $S$ in us-ALEX measurements. The main reference is [Lee et al. (Biophys. J. 2005)](http://www.chem.ucla.edu/~michalet/papers/BJ2005.pdf), but here we derive many more expression not present in the original paper. The algebric part is performed through [Computer-assisted symbolic computation](http://en.wikipedia.org/wiki/Computer_algebra_system) using [Sympy](http://sympy.org/en/index.html) for proof the correctness.*"
   ]
  },
  {
   "cell_type": "markdown",
   "metadata": {},
   "source": [
    "## Revisions\n",
    "- Oct 09, 2014: Added expressions for $S$\n",
    "- Aug 05, 2014: public release"
   ]
  },
  {
   "cell_type": "markdown",
   "metadata": {},
   "source": [
    "# 1. Definitions\n",
    "\n",
    "Let define the FRET efficiency $E$ and the proximity ratio $E_R$:\n",
    "\n",
    "$$ E = \\frac{n_a}{n_a +  \\gamma \\, n_d} \\qquad E_R = \\frac{n^*_a}{n^*_a +  \\, n_d}$$\n",
    "\n",
    "where $n_d$, $n_a$ are the donor and acceptor detected counts after all the corrections, while $n^*_a$ is the acceptor counts with only background correction (no leakage and direct excitation corrections).\n",
    "\n",
    "Similarly, the definitions of uncorrected stoichiometry ($S_R$) and corrected stoichiometry ($S$) are:\n",
    "\n",
    "$$ S_{R}  = \\frac{n_d + n^*_a}{n_d + n^*_a + n_{aa}}$$ \n",
    "\n",
    "$$ S  = \\frac{\\gamma n_d + n_a}{\\gamma n_d + n_a + n_{aa}}$$ \n",
    "\n",
    "The relation between $n_a$ and $n^*_a$ is:\n",
    "\n",
    "$$n^*_a = n_a + L_k \\, n_d + n_{dex}$$\n",
    "\n",
    "The term $n_{dex}$ can be equivalently expressed as:\n",
    "\n",
    "1) a function of $n_{aa}$:\n",
    "\n",
    "   $$  n_{dex} = d_{exAA} \\cdot n_{aa}$$\n",
    "\n",
    "2) a function of the \"total signal\" $n_a + \\gamma\\,n_d$:\n",
    "\n",
    "   $$ n_{dex} = d_{exT} \\cdot (n_a + \\gamma\\,n_d) $$\n",
    "   \n",
    "3) a function of the \"total signal\" $n_a/\\gamma + n_d$:\n",
    "\n",
    "   $$ n_{dex} = d_{exT'} \\cdot (n_a/\\gamma + n_d) $$\n",
    "\n",
    "4) a function of $n_d$:\n",
    "\n",
    "   $$ n_{dex} = d_{exD} \\cdot n_d $$\n",
    "\n",
    "5) a function of $n_a$:\n",
    "\n",
    "   $$ n_{dex} = d_{exA} \\cdot n_a $$\n",
    "\n",
    "\n",
    "### Def. 1\n",
    "The coefficient $d_{exAA}$ can be computed from an acceptor-only population in an ALEX measurement as:\n",
    "\n",
    "$$ d_{exAA} = \\frac{n_a}{n_{aa}} $$\n",
    "\n",
    "In terms of physical parameters it is:\n",
    "\n",
    "$$ d_{exAA} = \\frac{I_{532}}{I_{628}} \\frac{\\sigma_{A532}}{\\sigma_{A628}} $$\n",
    "\n",
    "> **NOTE:** This coefficient is $d$ in [Biophysical Journal paper (p. 2943)](http://www.chem.ucla.edu/~michalet/papers/BJ2005.pdf)\n",
    "\n",
    "### Def. 2\n",
    "The coefficient $d_{exT}$ can't be computed from the data but only from the physical parameters:\n",
    "\n",
    "$$ d_{exT} = \\frac{\\sigma_{A532}}{\\sigma_{D532}} $$\n",
    "\n",
    "### Def. 3\n",
    "The coefficient $d_{exT'}$ can't be computed from the data but only from the physical parameters:\n",
    "\n",
    "$$ d_{exT'} = \\frac{\\sigma_{A532}}{\\sigma_{D532}} \\gamma$$\n",
    "\n",
    "> **NOTE:** This is $d'$ in the Biophysical Journal paper [p. 2943](http://www.chem.ucla.edu/~michalet/papers/BJ2005.pdf) and [SI](http://www.chem.ucla.edu/~michalet/papers/BJ2005SI.pdf)\n",
    "\n",
    "### Def. 4\n",
    "The coefficient $d_{exD}$ is a function of $E$ as well as the physical parameters.\n",
    "\n",
    "$$ n_{dex} = I_{532} \\, \\sigma_{A532} \\, \\phi_A \\, \\eta_{AA} $$\n",
    "\n",
    "$$ n_{d} = I_{532} \\, \\sigma_{D532} \\, \\phi_D \\, \\eta_{DD} (1 - E) $$\n",
    "\n",
    "Taking the ratio:\n",
    "\n",
    "$$ d_{exD} = \\frac{ \\sigma_{A532} }{\\sigma_{D532}} \\frac{\\gamma}{1 - E} = d_{exT} \\frac{\\gamma}{1 - E} $$\n",
    "\n",
    "### Def. 5\n",
    "The coefficient $d_{exA}$ is a function of $E$ as well as the physical parameters.\n",
    "\n",
    "$$ n_{dex} = I_{532} \\, \\sigma_{A532} \\, \\phi_A \\, \\eta_{AA} $$\n",
    "\n",
    "$$ n_{a} = I_{532} \\, \\sigma_{D532} \\, E \\, \\phi_A \\, \\eta_{AA} $$\n",
    "\n",
    "Taking the ratio:\n",
    "\n",
    "$$ d_{exA} = \\frac{ \\sigma_{A532} }{\\sigma_{D532}} E $$\n",
    "\n",
    "## Discussion of \"Def. 1-5\"\n",
    "\n",
    "Definitions 4 and 5 are inconvenient because the coefficient depends on $E$. \"Def. 3\" does not depend on $E$ but depends on $\\gamma$, while \"Def. 2\" depends only on the ratio of two absorption cross sections. \"Def. 1\" can only be used in an ALEX measurement and will be used below for the $S$ expression.\n",
    "\n",
    "So, for non-ALEX measurement, \"Def. 2\" gives the simpler coefficient.\n",
    "\n",
    "As physical interpretation, definitions 2 and 3 are similar. In \"Def. 2\", when $E=1$, the \"total signal\" is the background-corrected counts. When $E < 1$, the total corrected counts do not change (at the same excitation intensity): they are the sum of acceptor and gamma-corrected donor counts. Similar considerations hold for \"Def. 3\" (starting from $E=0$).\n"
   ]
  },
  {
   "cell_type": "markdown",
   "metadata": {},
   "source": [
    "# 2. Derivation of the expressions"
   ]
  },
  {
   "cell_type": "markdown",
   "metadata": {},
   "source": [
    "## 2.1 Import libraries"
   ]
  },
  {
   "cell_type": "code",
   "execution_count": 1,
   "metadata": {
    "collapsed": false
   },
   "outputs": [],
   "source": [
    "import sympy\n",
    "from sympy import init_printing, symbols, solve, Eq\n",
    "init_printing()  # beautiful maths"
   ]
  },
  {
   "cell_type": "markdown",
   "metadata": {},
   "source": [
    "## 2.2 Relating $E$ and $E_R$\n",
    "\n",
    "### Define the symbols"
   ]
  },
  {
   "cell_type": "code",
   "execution_count": 2,
   "metadata": {
    "collapsed": false
   },
   "outputs": [],
   "source": [
    "E, Er = symbols('E, E_R')\n",
    "nd, na, ns_a, n_dex = symbols('n_d n_a n^*_a n_dex')\n",
    "gamma, Lk = symbols('gamma L_k')\n",
    "d_exAA, d_exT, d_exD = symbols(\"d_exAA d_exT, d_exD\")"
   ]
  },
  {
   "cell_type": "code",
   "execution_count": 3,
   "metadata": {
    "collapsed": false
   },
   "outputs": [
    {
     "data": {
      "image/png": "[encoded data removed]",
      "text/latex": [
       "$$\\frac{n_{a}}{n_{a} + n_{d}}$$"
      ],
      "text/plain": [
       "   nₐ   \n",
       "────────\n",
       "nₐ + n_d"
      ]
     },
     "execution_count": 3,
     "metadata": {},
     "output_type": "execute_result"
    }
   ],
   "source": [
    "def PR(nd, na):\n",
    "    return na/(na + nd)\n",
    "\n",
    "PR(nd, na)"
   ]
  },
  {
   "cell_type": "code",
   "execution_count": 4,
   "metadata": {
    "collapsed": false
   },
   "outputs": [
    {
     "data": {
      "image/png": "[encoded data removed]",
      "text/latex": [
       "$$\\frac{n_{a}}{\\gamma n_{d} + n_{a}}$$"
      ],
      "text/plain": [
       "    nₐ    \n",
       "──────────\n",
       "γ⋅n_d + nₐ"
      ]
     },
     "execution_count": 4,
     "metadata": {},
     "output_type": "execute_result"
    }
   ],
   "source": [
    "def FRET(nd, na, gamma):\n",
    "    return na / (na + gamma*nd)\n",
    "\n",
    "FRET(nd, na, gamma)"
   ]
  },
  {
   "cell_type": "markdown",
   "metadata": {},
   "source": [
    "### Symbolic computation: $E = f(E_R)$"
   ]
  },
  {
   "cell_type": "markdown",
   "metadata": {},
   "source": [
    "As a first step we write $n^*_a$ as a function of $n_a$ and save the symbolic expression:"
   ]
  },
  {
   "cell_type": "code",
   "execution_count": 5,
   "metadata": {
    "collapsed": false
   },
   "outputs": [
    {
     "data": {
      "image/png": "[encoded data removed]",
      "text/latex": [
       "$$L_{k} n_{d} + n_{a} + n_{dex}$$"
      ],
      "text/plain": [
       "Lₖ⋅n_d + nₐ + n_dex"
      ]
     },
     "execution_count": 5,
     "metadata": {},
     "output_type": "execute_result"
    }
   ],
   "source": [
    "ns_a_as_func_na = na + Lk*nd + n_dex\n",
    "ns_a_as_func_na"
   ]
  },
  {
   "cell_type": "markdown",
   "metadata": {},
   "source": [
    "Here we write the PR substituting $n^*_a$ with $n_a + L_k n_d + n_{dex}$ and $n_{dex}$ with the \"Def. 2\" expression:"
   ]
  },
  {
   "cell_type": "code",
   "execution_count": 6,
   "metadata": {
    "collapsed": false
   },
   "outputs": [
    {
     "data": {
      "image/png": "[encoded data removed]",
      "text/latex": [
       "$$\\frac{L_{k} n_{d} + d_{exT} \\gamma n_{d} + d_{exT} n_{a} + n_{a}}{L_{k} n_{d} + d_{exT} \\gamma n_{d} + d_{exT} n_{a} + n_{a} + n_{d}}$$"
      ],
      "text/plain": [
       "   Lₖ⋅n_d + d_exT⋅γ⋅n_d + d_exT⋅nₐ + nₐ   \n",
       "──────────────────────────────────────────\n",
       "Lₖ⋅n_d + d_exT⋅γ⋅n_d + d_exT⋅nₐ + nₐ + n_d"
      ]
     },
     "execution_count": 6,
     "metadata": {},
     "output_type": "execute_result"
    }
   ],
   "source": [
    "Er_sym = sympy.factor(PR(nd, ns_a).subs(ns_a, ns_a_as_func_na).subs(n_dex, d_exT*(nd*gamma + na)))\n",
    "\n",
    "Er_sym"
   ]
  },
  {
   "cell_type": "markdown",
   "metadata": {},
   "source": [
    "The previous expression is the proximity ratio $E_R$. We \"solve\" it to obtain $n_d$ as a function of $E_R$. Then we replace the obtained expression in the FRET formula:"
   ]
  },
  {
   "cell_type": "code",
   "execution_count": 7,
   "metadata": {
    "collapsed": false
   },
   "outputs": [
    {
     "data": {
      "image/png": "[encoded data removed]",
      "text/latex": [
       "$$\\frac{E_{R} L_{k} + E_{R} d_{exT} \\gamma + E_{R} - L_{k} - d_{exT} \\gamma}{E_{R} L_{k} - E_{R} \\gamma + E_{R} - L_{k} + \\gamma}$$"
      ],
      "text/plain": [
       "E_R⋅Lₖ + E_R⋅d_exT⋅γ + E_R - Lₖ - d_exT⋅γ\n",
       "─────────────────────────────────────────\n",
       "      E_R⋅Lₖ - E_R⋅γ + E_R - Lₖ + γ      "
      ]
     },
     "execution_count": 7,
     "metadata": {},
     "output_type": "execute_result"
    }
   ],
   "source": [
    "E_sym = sympy.factor(FRET(nd, na, gamma).subs(nd, solve(Er_sym - Er, nd)[0]))\n",
    "\n",
    "E_sym"
   ]
  },
  {
   "cell_type": "markdown",
   "metadata": {},
   "source": [
    "The previous expression is $E$ as a function of $E_R$, including gamma, leakage and direct excitation coefficients. It is the same of [equation S9](http://www.chem.ucla.edu/~michalet/papers/BJ2005SI.pdf) when we replace $d_{exT}\\gamma$ with $d'$.\n",
    "\n",
    "Collecting $E_R$ we obtain an equivalent expression:"
   ]
  },
  {
   "cell_type": "code",
   "execution_count": 8,
   "metadata": {
    "collapsed": false
   },
   "outputs": [
    {
     "data": {
      "image/png": "[encoded data removed]",
      "text/latex": [
       "$$\\frac{E_{R} \\left(L_{k} + d_{exT} \\gamma + 1\\right) - L_{k} - d_{exT} \\gamma}{E_{R} \\left(L_{k} - \\gamma + 1\\right) - L_{k} + \\gamma}$$"
      ],
      "text/plain": [
       "E_R⋅(Lₖ + d_exT⋅γ + 1) - Lₖ - d_exT⋅γ\n",
       "─────────────────────────────────────\n",
       "      E_R⋅(Lₖ - γ + 1) - Lₖ + γ      "
      ]
     },
     "execution_count": 8,
     "metadata": {},
     "output_type": "execute_result"
    }
   ],
   "source": [
    "sympy.collect(E_sym, Er)"
   ]
  },
  {
   "cell_type": "markdown",
   "metadata": {},
   "source": [
    "From this symbolic expression we can define the python function:"
   ]
  },
  {
   "cell_type": "code",
   "execution_count": 9,
   "metadata": {
    "collapsed": false
   },
   "outputs": [],
   "source": [
    "def correct_E_gamma_leak_dir(Eraw, gamma, leakage=0, dir_ex_t=0):\n",
    "    Eraw = np.asarray(Eraw)\n",
    "    return (Eraw*(leakage + dir_ex_t*gamma + 1) - leakage - dir_ex_t*gamma) \\\n",
    "           / ( Eraw*(leakage -  gamma + 1) - leakage + gamma )"
   ]
  },
  {
   "cell_type": "markdown",
   "metadata": {},
   "source": [
    "Now we can derive the simpler expression in the case we want to correct only one parameter.\n",
    "\n",
    "For only gamma correction we obtain:"
   ]
  },
  {
   "cell_type": "code",
   "execution_count": 10,
   "metadata": {
    "collapsed": false
   },
   "outputs": [
    {
     "data": {
      "image/png": "[encoded data removed]",
      "text/latex": [
       "$$\\frac{E_{R}}{- E_{R} \\gamma + E_{R} + \\gamma}$$"
      ],
      "text/plain": [
       "      E_R       \n",
       "────────────────\n",
       "-E_R⋅γ + E_R + γ"
      ]
     },
     "execution_count": 10,
     "metadata": {},
     "output_type": "execute_result"
    }
   ],
   "source": [
    "E_sym.subs(Lk, 0).subs(d_exT, 0)"
   ]
  },
  {
   "cell_type": "markdown",
   "metadata": {},
   "source": [
    "For the only leakage correction we obtain:"
   ]
  },
  {
   "cell_type": "code",
   "execution_count": 11,
   "metadata": {
    "collapsed": false
   },
   "outputs": [
    {
     "data": {
      "image/png": "[encoded data removed]",
      "text/latex": [
       "$$\\frac{E_{R} \\left(L_{k} + 1\\right) - L_{k}}{E_{R} L_{k} - L_{k} + 1}$$"
      ],
      "text/plain": [
       "E_R⋅(Lₖ + 1) - Lₖ\n",
       "─────────────────\n",
       " E_R⋅Lₖ - Lₖ + 1 "
      ]
     },
     "execution_count": 11,
     "metadata": {},
     "output_type": "execute_result"
    }
   ],
   "source": [
    "sympy.collect(E_sym.subs(gamma, 1).subs(d_exT, 0), Er)"
   ]
  },
  {
   "cell_type": "markdown",
   "metadata": {},
   "source": [
    "For the only direct excitation correction we obtain:"
   ]
  },
  {
   "cell_type": "code",
   "execution_count": 12,
   "metadata": {
    "collapsed": false
   },
   "outputs": [
    {
     "data": {
      "image/png": "[encoded data removed]",
      "text/latex": [
       "$$E_{R} \\left(d_{exT} + 1\\right) - d_{exT}$$"
      ],
      "text/plain": [
       "E_R⋅(d_exT + 1) - d_exT"
      ]
     },
     "execution_count": 12,
     "metadata": {},
     "output_type": "execute_result"
    }
   ],
   "source": [
    "sympy.collect(E_sym.subs(gamma, 1).subs(Lk, 0), Er)"
   ]
  },
  {
   "cell_type": "markdown",
   "metadata": {},
   "source": [
    "> **NOTE:** The latter 3 formulas for correcting only one coefficient cannot be chained. In other words, applying them in sequence **do not** yield the same result as applying the complete formula."
   ]
  },
  {
   "cell_type": "markdown",
   "metadata": {},
   "source": [
    "### Symbolic computation: $E_R = f^{-1}(E)$"
   ]
  },
  {
   "cell_type": "markdown",
   "metadata": {},
   "source": [
    "Conversely, to compute $E_R$  as a function of $E$ we invert the previous expression:"
   ]
  },
  {
   "cell_type": "code",
   "execution_count": 13,
   "metadata": {
    "collapsed": false
   },
   "outputs": [],
   "source": [
    "Er_as_func_E = solve(E - E_sym, Er)[0]"
   ]
  },
  {
   "cell_type": "code",
   "execution_count": 14,
   "metadata": {
    "collapsed": false
   },
   "outputs": [
    {
     "data": {
      "image/png": "[encoded data removed]",
      "text/latex": [
       "$$\\frac{E \\left(- L_{k} + \\gamma\\right) + L_{k} + d_{exT} \\gamma}{E \\left(- L_{k} + \\gamma - 1\\right) + L_{k} + d_{exT} \\gamma + 1}$$"
      ],
      "text/plain": [
       "    E⋅(-Lₖ + γ) + Lₖ + d_exT⋅γ    \n",
       "──────────────────────────────────\n",
       "E⋅(-Lₖ + γ - 1) + Lₖ + d_exT⋅γ + 1"
      ]
     },
     "execution_count": 14,
     "metadata": {},
     "output_type": "execute_result"
    }
   ],
   "source": [
    "sympy.collect(Er_as_func_E, E)"
   ]
  },
  {
   "cell_type": "markdown",
   "metadata": {},
   "source": [
    "And we define the python function:"
   ]
  },
  {
   "cell_type": "code",
   "execution_count": 15,
   "metadata": {
    "collapsed": false
   },
   "outputs": [],
   "source": [
    "def uncorrect_E_gamma_leak_dir(E, gamma, leakage=0, dir_ex_t=0):\n",
    "    E = np.asarray(E)\n",
    "    return (E*(gamma - leakage) + leakage + dir_ex_t*gamma) \\\n",
    "           / ( E*(gamma - leakage - 1) + leakage + dir_ex_t*gamma + 1 )"
   ]
  },
  {
   "cell_type": "markdown",
   "metadata": {},
   "source": [
    "And the inverse for only a single correction are (in the order gamma, leakage, direct excitation)"
   ]
  },
  {
   "cell_type": "code",
   "execution_count": 16,
   "metadata": {
    "collapsed": false
   },
   "outputs": [
    {
     "data": {
      "image/png": "[encoded data removed]",
      "text/latex": [
       "$$\\frac{E \\gamma}{E \\gamma - E + 1}$$"
      ],
      "text/plain": [
       "    E⋅γ    \n",
       "───────────\n",
       "E⋅γ - E + 1"
      ]
     },
     "execution_count": 16,
     "metadata": {},
     "output_type": "execute_result"
    }
   ],
   "source": [
    "Er_as_func_E.subs(Lk, 0).subs(d_exT, 0)"
   ]
  },
  {
   "cell_type": "code",
   "execution_count": 17,
   "metadata": {
    "collapsed": false
   },
   "outputs": [
    {
     "data": {
      "image/png": "[encoded data removed]",
      "text/latex": [
       "$$\\frac{- E L_{k} + E + L_{k}}{- E L_{k} + L_{k} + 1}$$"
      ],
      "text/plain": [
       "-E⋅Lₖ + E + Lₖ\n",
       "──────────────\n",
       "-E⋅Lₖ + Lₖ + 1"
      ]
     },
     "execution_count": 17,
     "metadata": {},
     "output_type": "execute_result"
    }
   ],
   "source": [
    "sympy.collect(Er_as_func_E.subs(gamma, 1).subs(d_exT, 0), Er)"
   ]
  },
  {
   "cell_type": "code",
   "execution_count": 18,
   "metadata": {
    "collapsed": false
   },
   "outputs": [
    {
     "data": {
      "image/png": "[encoded data removed]",
      "text/latex": [
       "$$\\frac{E + d_{exT}}{d_{exT} + 1}$$"
      ],
      "text/plain": [
       "E + d_exT\n",
       "─────────\n",
       "d_exT + 1"
      ]
     },
     "execution_count": 18,
     "metadata": {},
     "output_type": "execute_result"
    }
   ],
   "source": [
    "sympy.collect(Er_as_func_E.subs(gamma, 1).subs(Lk, 0), Er)"
   ]
  },
  {
   "cell_type": "markdown",
   "metadata": {},
   "source": [
    "## 2.3 Relating $S$ and $S_R$\n",
    "\n",
    "In this section we derive the expression of $S$ (corrected stoichiometry) as a function of $S_R$ (uncorrected stoichiometry). See section 1 for the expression of $S$ and $S_R$. \n",
    "\n",
    "### Define the symbols"
   ]
  },
  {
   "cell_type": "code",
   "execution_count": 19,
   "metadata": {
    "collapsed": false
   },
   "outputs": [],
   "source": [
    "S, Sr = symbols('S, S_R')\n",
    "nd, na, ns_a, n_dex, naa = symbols('n_d n_a n^*_a n_dex n_aa')\n",
    "gamma, Lk = symbols('gamma L_k')\n",
    "d_exAA, d_exT, d_exD = symbols(\"d_exAA d_exT, d_exD\")"
   ]
  },
  {
   "cell_type": "code",
   "execution_count": 20,
   "metadata": {
    "collapsed": false
   },
   "outputs": [],
   "source": [
    "# S, Sr = symbols('S, Sr')\n",
    "# nd, na, ns_a, n_dex, naa = symbols('nd na n^*_a n_dex naa')\n",
    "# gamma, Lk = symbols('gamma Lk')\n",
    "# d_exAA, d_exT, d_exD = symbols(\"d_exAA d_exT, d_exD\")"
   ]
  },
  {
   "cell_type": "code",
   "execution_count": 21,
   "metadata": {
    "collapsed": false
   },
   "outputs": [
    {
     "data": {
      "image/png": "[encoded data removed]",
      "text/latex": [
       "$$\\frac{n_{a} + n_{d}}{n_{a} + n_{aa} + n_{d}}$$"
      ],
      "text/plain": [
       "   nₐ + n_d   \n",
       "──────────────\n",
       "nₐ + nₐₐ + n_d"
      ]
     },
     "execution_count": 21,
     "metadata": {},
     "output_type": "execute_result"
    }
   ],
   "source": [
    "def StoichRaw(nd, na, naa):\n",
    "    return (na + nd)/(na + nd + naa)\n",
    "\n",
    "StoichRaw(nd, na, naa)"
   ]
  },
  {
   "cell_type": "code",
   "execution_count": 22,
   "metadata": {
    "collapsed": false
   },
   "outputs": [
    {
     "data": {
      "image/png": "[encoded data removed]",
      "text/latex": [
       "$$\\frac{\\gamma n_{d} + n_{a}}{\\gamma n_{d} + n_{a} + n_{aa}}$$"
      ],
      "text/plain": [
       "   γ⋅n_d + nₐ   \n",
       "────────────────\n",
       "γ⋅n_d + nₐ + nₐₐ"
      ]
     },
     "execution_count": 22,
     "metadata": {},
     "output_type": "execute_result"
    }
   ],
   "source": [
    "def Stoich(nd, na, naa, gamma):\n",
    "    return (na + gamma*nd)/(na + gamma*nd + naa)\n",
    "\n",
    "Stoich(nd, na, naa, gamma)"
   ]
  },
  {
   "cell_type": "markdown",
   "metadata": {},
   "source": [
    "### Symbolic computation: $S = f(S_R)$\n",
    "\n",
    "As a first step we write $n^*_a$ as a function of $n_a$ and save the symbolic expression:"
   ]
  },
  {
   "cell_type": "code",
   "execution_count": 23,
   "metadata": {
    "collapsed": false
   },
   "outputs": [
    {
     "data": {
      "image/png": "[encoded data removed]",
      "text/latex": [
       "$$L_{k} n_{d} + n_{a} + n_{dex}$$"
      ],
      "text/plain": [
       "Lₖ⋅n_d + nₐ + n_dex"
      ]
     },
     "execution_count": 23,
     "metadata": {},
     "output_type": "execute_result"
    }
   ],
   "source": [
    "ns_a_as_func_na = na + Lk*nd + n_dex\n",
    "ns_a_as_func_na"
   ]
  },
  {
   "cell_type": "markdown",
   "metadata": {},
   "source": [
    "Here we write $S_R$ substituting $n^*_a$ with $n_a + L_k n_d + n_{dex}$ and $n_{dex}$ \n",
    "with the \"Def. 1\" expression:"
   ]
  },
  {
   "cell_type": "code",
   "execution_count": 24,
   "metadata": {
    "collapsed": false
   },
   "outputs": [
    {
     "data": {
      "image/png": "[encoded data removed]",
      "text/latex": [
       "$$\\frac{L_{k} n_{d} + d_{exAA} n_{aa} + n_{a} + n_{d}}{L_{k} n_{d} + d_{exAA} n_{aa} + n_{a} + n_{aa} + n_{d}}$$"
      ],
      "text/plain": [
       "   Lₖ⋅n_d + d_exAA⋅nₐₐ + nₐ + n_d   \n",
       "────────────────────────────────────\n",
       "Lₖ⋅n_d + d_exAA⋅nₐₐ + nₐ + nₐₐ + n_d"
      ]
     },
     "execution_count": 24,
     "metadata": {},
     "output_type": "execute_result"
    }
   ],
   "source": [
    "Sr_sym = sympy.factor(\n",
    "    StoichRaw(nd, ns_a, naa).subs(ns_a, ns_a_as_func_na).subs(n_dex, d_exAA*naa)\n",
    "    )\n",
    "\n",
    "Sr_sym"
   ]
  },
  {
   "cell_type": "markdown",
   "metadata": {},
   "source": [
    "The previous expression is the $S_R$. Like we did for $E$, we \"solve\" the previous expression to obtain one of $n_d$, $n_a$, $n_{aa}$ as a function of $S_R$. Then we replace the obtained expression in the $S$ formula of corrected stoichiometry.\n",
    "\n",
    "Unfortunately in this case the resulting expression still depends on 2 of the 3 burst-size components ($n_d$, $n_a$, $n_{aa}$). For $E$ instead, we had obtained an expression that was function only of $E_R$ and the correction factors.\n",
    "\n",
    "Nonetheless, the expression can still be useful. It's convenient to use in the formula the experimental $n_d$ and $n_{aa}$ (after background correction). In fact, if we would use $n_a$ instead, we would need to apply the leakage and direct excitation corrections before using it. \n",
    "\n",
    "So, let \"solve\" $S_R$ respect to $n_a$:"
   ]
  },
  {
   "cell_type": "code",
   "execution_count": 25,
   "metadata": {
    "collapsed": false
   },
   "outputs": [
    {
     "data": {
      "image/png": "[encoded data removed]",
      "text/latex": [
       "$$\\frac{L_{k} S_{R} n_{d} - L_{k} n_{d} + S_{R} d_{exAA} n_{aa} - S_{R} \\gamma n_{d} + S_{R} n_{aa} + S_{R} n_{d} - d_{exAA} n_{aa} + \\gamma n_{d} - n_{d}}{L_{k} S_{R} n_{d} - L_{k} n_{d} + S_{R} d_{exAA} n_{aa} - S_{R} \\gamma n_{d} + S_{R} n_{d} - d_{exAA} n_{aa} + \\gamma n_{d} + n_{aa} - n_{d}}$$"
      ],
      "text/plain": [
       "Lₖ⋅S_R⋅n_d - Lₖ⋅n_d + S_R⋅d_exAA⋅nₐₐ - S_R⋅γ⋅n_d + S_R⋅nₐₐ + S_R⋅n_d - d_exAA⋅\n",
       "──────────────────────────────────────────────────────────────────────────────\n",
       "  Lₖ⋅S_R⋅n_d - Lₖ⋅n_d + S_R⋅d_exAA⋅nₐₐ - S_R⋅γ⋅n_d + S_R⋅n_d - d_exAA⋅nₐₐ + γ⋅\n",
       "\n",
       "nₐₐ + γ⋅n_d - n_d\n",
       "─────────────────\n",
       "n_d + nₐₐ - n_d  "
      ]
     },
     "execution_count": 25,
     "metadata": {},
     "output_type": "execute_result"
    }
   ],
   "source": [
    "S_sym = sympy.factor(\n",
    "    Stoich(nd, na, naa, gamma).subs(na, solve(Sr_sym - Sr, na)[0])\n",
    "    )\n",
    "\n",
    "S_sym"
   ]
  },
  {
   "cell_type": "markdown",
   "metadata": {},
   "source": [
    "The previous formula is the expression of $S$ as a function of $S_R$, $n_d$, $n_{aa}$ and of all the correction coefficient.\n",
    "\n",
    "Now we just do some passages to try to obtain a more compact expression:"
   ]
  },
  {
   "cell_type": "code",
   "execution_count": 26,
   "metadata": {
    "collapsed": false
   },
   "outputs": [
    {
     "data": {
      "image/png": "[encoded data removed]",
      "text/latex": [
       "$$\\frac{- L_{k} n_{d} + S_{R} \\left(L_{k} n_{d} + d_{exAA} n_{aa} - \\gamma n_{d} + n_{aa} + n_{d}\\right) - d_{exAA} n_{aa} + \\gamma n_{d} - n_{d}}{- L_{k} n_{d} + S_{R} \\left(L_{k} n_{d} + d_{exAA} n_{aa} - \\gamma n_{d} + n_{d}\\right) - d_{exAA} n_{aa} + \\gamma n_{d} + n_{aa} - n_{d}}$$"
      ],
      "text/plain": [
       "-Lₖ⋅n_d + S_R⋅(Lₖ⋅n_d + d_exAA⋅nₐₐ - γ⋅n_d + nₐₐ + n_d) - d_exAA⋅nₐₐ + γ⋅n_d -\n",
       "──────────────────────────────────────────────────────────────────────────────\n",
       "-Lₖ⋅n_d + S_R⋅(Lₖ⋅n_d + d_exAA⋅nₐₐ - γ⋅n_d + n_d) - d_exAA⋅nₐₐ + γ⋅n_d + nₐₐ -\n",
       "\n",
       " n_d\n",
       "────\n",
       " n_d"
      ]
     },
     "execution_count": 26,
     "metadata": {},
     "output_type": "execute_result"
    }
   ],
   "source": [
    "S_sym2 = S_sym.collect(Sr).collect(na).collect(gamma)\n",
    "S_sym2"
   ]
  },
  {
   "cell_type": "code",
   "execution_count": 27,
   "metadata": {
    "collapsed": false
   },
   "outputs": [
    {
     "data": {
      "image/png": "[encoded data removed]",
      "text/latex": [
       "$$\\frac{- L_{k} n_{d} + S_{R} \\left(L_{k} n_{d} + n_{aa} + x\\right) - x}{- L_{k} n_{d} + S_{R} \\left(L_{k} n_{d} + x\\right) + n_{aa} - x}$$"
      ],
      "text/plain": [
       "-Lₖ⋅n_d + S_R⋅(Lₖ⋅n_d + nₐₐ + x) - x\n",
       "────────────────────────────────────\n",
       "-Lₖ⋅n_d + S_R⋅(Lₖ⋅n_d + x) + nₐₐ - x"
      ]
     },
     "execution_count": 27,
     "metadata": {},
     "output_type": "execute_result"
    }
   ],
   "source": [
    "x = symbols('x')\n",
    "S_sym3 = S_sym2.subs(nd - nd*gamma + d_exAA*naa, x)\n",
    "S_sym3"
   ]
  },
  {
   "cell_type": "code",
   "execution_count": 28,
   "metadata": {
    "collapsed": false
   },
   "outputs": [
    {
     "data": {
      "image/png": "[encoded data removed]",
      "text/latex": [
       "$$\\frac{L_{k} S_{R} n_{d} - L_{k} n_{d} + S_{R} n_{aa} + x \\left(S_{R} - 1\\right)}{L_{k} S_{R} n_{d} - L_{k} n_{d} + n_{aa} + x \\left(S_{R} - 1\\right)}$$"
      ],
      "text/plain": [
       "Lₖ⋅S_R⋅n_d - Lₖ⋅n_d + S_R⋅nₐₐ + x⋅(S_R - 1)\n",
       "───────────────────────────────────────────\n",
       "  Lₖ⋅S_R⋅n_d - Lₖ⋅n_d + nₐₐ + x⋅(S_R - 1)  "
      ]
     },
     "execution_count": 28,
     "metadata": {},
     "output_type": "execute_result"
    }
   ],
   "source": [
    "S_sym4 = S_sym3.factor().collect(x)\n",
    "S_sym4"
   ]
  },
  {
   "cell_type": "code",
   "execution_count": 29,
   "metadata": {
    "collapsed": false
   },
   "outputs": [
    {
     "data": {
      "image/png": "[encoded data removed]",
      "text/latex": [
       "$$\\frac{S_{R} n_{aa} + x \\left(S_{R} - 1\\right) + y}{n_{aa} + x \\left(S_{R} - 1\\right) + y}$$"
      ],
      "text/plain": [
       "S_R⋅nₐₐ + x⋅(S_R - 1) + y\n",
       "─────────────────────────\n",
       "  nₐₐ + x⋅(S_R - 1) + y  "
      ]
     },
     "execution_count": 29,
     "metadata": {},
     "output_type": "execute_result"
    }
   ],
   "source": [
    "y = symbols('y')\n",
    "S_sym5 = S_sym4.subs(Lk*Sr*nd - Lk*nd, y)\n",
    "S_sym5"
   ]
  },
  {
   "cell_type": "markdown",
   "metadata": {},
   "source": [
    "Where \n",
    "\n",
    "$$x = n_d - n_d \\gamma + d_{exAA} n_{aa}$$  \n",
    "\n",
    "$$y = L_k S_R n_d - L_k n_d$$"
   ]
  },
  {
   "cell_type": "markdown",
   "metadata": {},
   "source": [
    "The previous formula is another expression of $S$ as a function of $S_R$, $n_d$, $n_{aa}$ and of all the correction coefficient.\n",
    "\n",
    "From here, we can express the function (both 1 and 5) in a python function:"
   ]
  },
  {
   "cell_type": "code",
   "execution_count": 30,
   "metadata": {
    "collapsed": false
   },
   "outputs": [
    {
     "name": "stdout",
     "output_type": "stream",
     "text": [
      "(L_k*S_R*n_d - L_k*n_d + S_R*d_exAA*n_aa - S_R*gamma*n_d + S_R*n_aa + S_R*n_d - d_exAA*n_aa + gamma*n_d - n_d)/(L_k*S_R*n_d - L_k*n_d + S_R*d_exAA*n_aa - S_R*gamma*n_d + S_R*n_d - d_exAA*n_aa + gamma*n_d + n_aa - n_d)\n"
     ]
    }
   ],
   "source": [
    "print(S_sym)"
   ]
  },
  {
   "cell_type": "code",
   "execution_count": 31,
   "metadata": {
    "collapsed": false
   },
   "outputs": [
    {
     "name": "stdout",
     "output_type": "stream",
     "text": [
      "(S_R*n_aa + x*(S_R - 1) + y)/(n_aa + x*(S_R - 1) + y)\n"
     ]
    }
   ],
   "source": [
    "print(S_sym5)"
   ]
  },
  {
   "cell_type": "code",
   "execution_count": 32,
   "metadata": {
    "collapsed": false
   },
   "outputs": [],
   "source": [
    "def correct_S1(Sr, nd, naa, gamma, d_exAA, Lk):\n",
    "    return ((Lk*Sr*nd - Lk*nd + Sr*d_exAA*naa - Sr*gamma*nd + Sr*naa + Sr*nd - d_exAA*naa + gamma*nd - nd)/\n",
    "            (Lk*Sr*nd - Lk*nd + Sr*d_exAA*naa - Sr*gamma*nd + Sr*nd - d_exAA*naa + gamma*nd + naa - nd))"
   ]
  },
  {
   "cell_type": "code",
   "execution_count": 33,
   "metadata": {
    "collapsed": false
   },
   "outputs": [],
   "source": [
    "def correct_S5(Sr, nd, naa, gamma, d_exAA, Lk):\n",
    "    x = nd - gamma*nd + d_exAA*naa\n",
    "    y = Lk*Sr*nd - Lk*nd \n",
    "    return (Sr*naa + x*(Sr - 1) + y)/(naa + x*(Sr - 1) + y)"
   ]
  },
  {
   "cell_type": "markdown",
   "metadata": {},
   "source": [
    "The latter is simpler and faster."
   ]
  },
  {
   "cell_type": "markdown",
   "metadata": {},
   "source": [
    "# 3. Numerical tests\n",
    "\n",
    "Test consistency between apply and un-apply of numerical corrections for $E$."
   ]
  },
  {
   "cell_type": "code",
   "execution_count": 34,
   "metadata": {
    "collapsed": false
   },
   "outputs": [],
   "source": [
    "import numpy as np"
   ]
  },
  {
   "cell_type": "code",
   "execution_count": 35,
   "metadata": {
    "collapsed": false
   },
   "outputs": [],
   "source": [
    "Ex = np.arange(-0.2, 1.2, 0.1)"
   ]
  },
  {
   "cell_type": "code",
   "execution_count": 36,
   "metadata": {
    "collapsed": false
   },
   "outputs": [],
   "source": [
    "gamma_ = 0.75\n",
    "leakage_ = 0.04\n",
    "dir_ex_t_ = 0.08"
   ]
  },
  {
   "cell_type": "code",
   "execution_count": 37,
   "metadata": {
    "collapsed": false
   },
   "outputs": [],
   "source": [
    "Ex_roundtrip = uncorrect_E_gamma_leak_dir(correct_E_gamma_leak_dir(Ex, gamma_), gamma_)"
   ]
  },
  {
   "cell_type": "code",
   "execution_count": 38,
   "metadata": {
    "collapsed": false
   },
   "outputs": [
    {
     "data": {
      "text/plain": [
       "True"
      ]
     },
     "execution_count": 38,
     "metadata": {},
     "output_type": "execute_result"
    }
   ],
   "source": [
    "np.allclose(Ex, Ex_roundtrip)"
   ]
  },
  {
   "cell_type": "code",
   "execution_count": 39,
   "metadata": {
    "collapsed": false
   },
   "outputs": [],
   "source": [
    "Ex_roundtrip = uncorrect_E_gamma_leak_dir(correct_E_gamma_leak_dir(Ex, gamma_, leakage_, dir_ex_t_), \n",
    "                                          gamma_, leakage_, dir_ex_t_)"
   ]
  },
  {
   "cell_type": "code",
   "execution_count": 40,
   "metadata": {
    "collapsed": false
   },
   "outputs": [
    {
     "data": {
      "text/plain": [
       "True"
      ]
     },
     "execution_count": 40,
     "metadata": {},
     "output_type": "execute_result"
    }
   ],
   "source": [
    "np.allclose(Ex, Ex_roundtrip)"
   ]
  },
  {
   "cell_type": "code",
   "execution_count": 41,
   "metadata": {
    "collapsed": false
   },
   "outputs": [],
   "source": [
    "Ex_roundtrip = correct_E_gamma_leak_dir(uncorrect_E_gamma_leak_dir(Ex, gamma_, leakage_, dir_ex_t_), \n",
    "                                        gamma_, leakage_, dir_ex_t_)"
   ]
  },
  {
   "cell_type": "code",
   "execution_count": 42,
   "metadata": {
    "collapsed": false
   },
   "outputs": [
    {
     "data": {
      "text/plain": [
       "True"
      ]
     },
     "execution_count": 42,
     "metadata": {},
     "output_type": "execute_result"
    }
   ],
   "source": [
    "np.allclose(Ex, Ex_roundtrip)"
   ]
  },
  {
   "cell_type": "markdown",
   "metadata": {},
   "source": [
    "Test that the 2 functions for $S$ correction yield the same result:"
   ]
  },
  {
   "cell_type": "code",
   "execution_count": 43,
   "metadata": {
    "collapsed": false
   },
   "outputs": [
    {
     "data": {
      "text/plain": [
       "True"
      ]
     },
     "execution_count": 43,
     "metadata": {},
     "output_type": "execute_result"
    }
   ],
   "source": [
    "Sx = np.arange(-0.2, 1.2, 0.1)\n",
    "\n",
    "nd_ = 300\n",
    "naa_ = 20\n",
    "\n",
    "gamma_ = 0.75\n",
    "leakage_ = 0.04\n",
    "dir_ex_aa_ = 0.08\n",
    "\n",
    "S1 = correct_S1(Sx, nd_, naa_, gamma_, leakage_, dir_ex_aa_)\n",
    "S5 = correct_S5(Sx, nd_, naa_, gamma_, leakage_, dir_ex_aa_)\n",
    "np.allclose(S1, S5)"
   ]
  }
 ],
 "metadata": {
  "kernelspec": {
   "display_name": "Python 3",
   "language": "python",
   "name": "python3"
  },
  "language_info": {
   "codemirror_mode": {
    "name": "ipython",
    "version": 3
   },
   "file_extension": ".py",
   "mimetype": "text/x-python",
   "name": "python",
   "nbconvert_exporter": "python",
   "pygments_lexer": "ipython3",
   "version": "3.5.1"
  }
 },
 "nbformat": 4,
 "nbformat_minor": 0
}
