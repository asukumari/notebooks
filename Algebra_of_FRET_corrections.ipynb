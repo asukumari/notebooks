{
 "metadata": {
  "name": "",
  "signature": "sha256:ab4d082baae926f18549c6ce669f291f5f38474dca5bc1da0b4d6e597f60e17c"
 },
 "nbformat": 3,
 "nbformat_minor": 0,
 "worksheets": [
  {
   "cells": [
    {
     "cell_type": "markdown",
     "metadata": {},
     "source": [
      "The notebook \"Algebra_of_FRET_corrections\" has been moved [to this new position](Derivation of FRET and S correction formulas).\n",
      "Please update your bookmark.\n",
      "\n",
      "*Antonino Ingargiola* - [github page](https://github.com/tritemio)"
     ]
    }
   ],
   "metadata": {}
  }
 ]
}