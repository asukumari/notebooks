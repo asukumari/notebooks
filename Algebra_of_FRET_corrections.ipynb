{
 "metadata": {
  "name": "",
  "signature": "sha256:3cba89ab13585f13d635823fa1982407cfe27fdfe5a9947980bd19e71dffe4df"
 },
 "nbformat": 3,
 "nbformat_minor": 0,
 "worksheets": [
  {
   "cells": [
    {
     "cell_type": "markdown",
     "metadata": {},
     "source": [
      "The notebook \"Algebra_of_FRET_corrections\" has been moved [to this new position](Derivation of FRET and S correction formulas.ipynb).\n",
      "Please update your bookmark.\n",
      "\n",
      "*Antonino Ingargiola* - [github page](https://github.com/tritemio)"
     ]
    },
    {
     "cell_type": "code",
     "collapsed": false,
     "input": [],
     "language": "python",
     "metadata": {},
     "outputs": []
    }
   ],
   "metadata": {}
  }
 ]
}